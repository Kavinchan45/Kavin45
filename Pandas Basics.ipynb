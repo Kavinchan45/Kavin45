{
 "cells": [
  {
   "cell_type": "code",
   "execution_count": 1,
   "id": "737e3bcb",
   "metadata": {},
   "outputs": [
    {
     "name": "stdout",
     "output_type": "stream",
     "text": [
      "Empty DataFrame\n",
      "Columns: []\n",
      "Index: []\n"
     ]
    }
   ],
   "source": [
    "#Syntax\n",
    "import pandas as pd\n",
    "df=pd.DataFrame()\n",
    "print(df)"
   ]
  },
  {
   "cell_type": "code",
   "execution_count": 5,
   "id": "745ca08b",
   "metadata": {},
   "outputs": [
    {
     "name": "stdout",
     "output_type": "stream",
     "text": [
      "\n",
      " Series to Data frame\n",
      "\n",
      "     Name  Id\n",
      "0     Uma  10\n",
      "1    Siva  20\n",
      "2  Sindhu  30\n",
      "3    Ravi  40\n"
     ]
    }
   ],
   "source": [
    "#Creation\n",
    "import pandas as pd\n",
    "df=pd.DataFrame()\n",
    "name=pd.Series(['Uma','Siva','Sindhu','Ravi'])\n",
    "id=([10,20,30,40])\n",
    "frame={'Name':name,'Id':id}\n",
    "result=pd.DataFrame(frame)\n",
    "print(\"\\n Series to Data frame\\n\")\n",
    "print(result)"
   ]
  },
  {
   "cell_type": "code",
   "execution_count": 9,
   "id": "9dcf1e81",
   "metadata": {},
   "outputs": [
    {
     "name": "stdout",
     "output_type": "stream",
     "text": [
      "\n",
      " Extracting One column\n",
      "\n",
      "0       Uma\n",
      "1      Siva\n",
      "2    Sindhu\n",
      "3      Ravi\n",
      "Name: Name, dtype: object\n"
     ]
    }
   ],
   "source": [
    "#Extraction of column\n",
    "import pandas as pd\n",
    "df=pd.DataFrame()\n",
    "name=pd.Series(['Uma','Siva','Sindhu','Ravi'])\n",
    "id=([10,20,30,40])\n",
    "print(\"\\n Extracting One column\\n\")\n",
    "print(result['Name'])"
   ]
  },
  {
   "cell_type": "code",
   "execution_count": 12,
   "id": "26ab0bc0",
   "metadata": {},
   "outputs": [
    {
     "name": "stdout",
     "output_type": "stream",
     "text": [
      "     Name  Id  Age\n",
      "0     Uma  10   20\n",
      "1    Siva  20   25\n",
      "2  Sindhu  30   30\n",
      "3    Ravi  40   50\n"
     ]
    }
   ],
   "source": [
    "#Insertion\n",
    "import pandas as pd\n",
    "df=pd.DataFrame()\n",
    "name=pd.Series(['Uma','Siva','Sindhu','Ravi'])\n",
    "id=([10,20,30,40])\n",
    "frame={'Name':name,'Id':id}\n",
    "result=pd.DataFrame(frame)\n",
    "result['Age']=pd.Series([20,25,30,50])\n",
    "print(result)"
   ]
  },
  {
   "cell_type": "code",
   "execution_count": 15,
   "id": "317d8d4f",
   "metadata": {},
   "outputs": [
    {
     "name": "stdout",
     "output_type": "stream",
     "text": [
      "     Name  Id\n",
      "0     Uma  10\n",
      "1    Siva  20\n",
      "2  Sindhu  30\n",
      "3    Ravi  40\n"
     ]
    }
   ],
   "source": [
    "#Deletion\n",
    "import pandas as pd\n",
    "df=pd.DataFrame()\n",
    "name=pd.Series(['Uma','Siva','Sindhu','Ravi'])\n",
    "id=([10,20,30,40])\n",
    "frame={'Name':name,'Id':id}\n",
    "result=pd.DataFrame(frame)\n",
    "result['Age']=pd.Series([20,25,30,50])\n",
    "del result['Age']\n",
    "print(result)"
   ]
  },
  {
   "cell_type": "code",
   "execution_count": 18,
   "id": "6d842ecb",
   "metadata": {},
   "outputs": [
    {
     "name": "stdout",
     "output_type": "stream",
     "text": [
      "\n",
      "Extracting the second row:\n",
      "\n",
      "Name    Siva\n",
      "Id        20\n",
      "Name: 1, dtype: object\n"
     ]
    }
   ],
   "source": [
    "#Extraction of row\n",
    "import pandas as pd\n",
    "df=pd.DataFrame()\n",
    "name=pd.Series(['Uma','Siva','Sindhu','Ravi'])\n",
    "id=([10,20,30,40])\n",
    "frame={'Name':name,'Id':id}\n",
    "result=pd.DataFrame(frame)\n",
    "result['Age']=pd.Series([20,25,30,50])\n",
    "del result['Age']\n",
    "print(\"\\nExtracting the second row:\\n\")\n",
    "print(result.loc[1])"
   ]
  },
  {
   "cell_type": "code",
   "execution_count": 19,
   "id": "96989591",
   "metadata": {},
   "outputs": [
    {
     "name": "stdout",
     "output_type": "stream",
     "text": [
      "Slice rows:\n",
      "      Name  Id\n",
      "1    Siva  20\n",
      "2  Sindhu  30\n"
     ]
    }
   ],
   "source": [
    "#Slicing\n",
    "import pandas as pd\n",
    "df=pd.DataFrame()\n",
    "name=pd.Series(['Uma','Siva','Sindhu','Ravi'])\n",
    "id=([10,20,30,40])\n",
    "frame={'Name':name,'Id':id}\n",
    "result=pd.DataFrame(frame)\n",
    "result['Age']=pd.Series([20,25,30,50])\n",
    "del result['Age']\n",
    "print(\"Slice rows:\\n\",result[1:3])"
   ]
  },
  {
   "cell_type": "code",
   "execution_count": 22,
   "id": "aa21cbdf",
   "metadata": {},
   "outputs": [
    {
     "name": "stdout",
     "output_type": "stream",
     "text": [
      "\n",
      "Adding new row values:\n",
      "      Name  Id\n",
      "0     Uma  10\n",
      "1    Siva  20\n",
      "2  Sindhu  30\n",
      "3    Ravi  40\n",
      "0   Johan  20\n",
      "1    Jinu  19\n"
     ]
    }
   ],
   "source": [
    "#Concatenation\n",
    "b=pd.DataFrame([['Johan',20],['Jinu',19]],columns=['Name','Id'])\n",
    "print(\"\\nAdding new row values:\\n\",pd.concat([result,b]))"
   ]
  },
  {
   "cell_type": "code",
   "execution_count": 23,
   "id": "f04dddad",
   "metadata": {},
   "outputs": [
    {
     "name": "stdout",
     "output_type": "stream",
     "text": [
      "   Name  Id\n",
      "0   Uma  10\n",
      "1  Siva  20\n",
      "3  Ravi  40\n"
     ]
    }
   ],
   "source": [
    "import pandas as pd\n",
    "df=pd.DataFrame()\n",
    "name=pd.Series(['Uma','Siva','Sindhu','Ravi'])\n",
    "id=([10,20,30,40])\n",
    "frame={'Name':name,'Id':id}\n",
    "result=pd.DataFrame(frame)\n",
    "result['Age']=pd.Series([20,25,30,50])\n",
    "del result['Age']\n",
    "print(result.drop(2))"
   ]
  }
 ],
 "metadata": {
  "kernelspec": {
   "display_name": "Python 3 (ipykernel)",
   "language": "python",
   "name": "python3"
  },
  "language_info": {
   "codemirror_mode": {
    "name": "ipython",
    "version": 3
   },
   "file_extension": ".py",
   "mimetype": "text/x-python",
   "name": "python",
   "nbconvert_exporter": "python",
   "pygments_lexer": "ipython3",
   "version": "3.11.5"
  }
 },
 "nbformat": 4,
 "nbformat_minor": 5
}
