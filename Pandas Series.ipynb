{
 "cells": [
  {
   "cell_type": "code",
   "execution_count": 3,
   "id": "18d11536",
   "metadata": {},
   "outputs": [
    {
     "name": "stdout",
     "output_type": "stream",
     "text": [
      "0    K\n",
      "1    A\n",
      "2    V\n",
      "3    I\n",
      "4    N\n",
      "dtype: object\n"
     ]
    }
   ],
   "source": [
    "import pandas as pd\n",
    "import numpy as np\n",
    "arr=np.array(['K','A','V','I','N'])\n",
    "a=pd.Series(arr)\n",
    "print(a)"
   ]
  },
  {
   "cell_type": "code",
   "execution_count": 5,
   "id": "eda1d7f1",
   "metadata": {},
   "outputs": [
    {
     "name": "stdout",
     "output_type": "stream",
     "text": [
      "a    0\n",
      "b    1\n",
      "c    2\n",
      "dtype: int64\n"
     ]
    }
   ],
   "source": [
    "import pandas as pd\n",
    "import numpy as np\n",
    "arr={'a':0,'b':1,'c':2}\n",
    "b=pd.Series(arr)\n",
    "print(b)"
   ]
  },
  {
   "cell_type": "code",
   "execution_count": 6,
   "id": "36fbe591",
   "metadata": {},
   "outputs": [
    {
     "name": "stdout",
     "output_type": "stream",
     "text": [
      "0    4\n",
      "1    4\n",
      "2    4\n",
      "3    4\n",
      "dtype: object\n"
     ]
    }
   ],
   "source": [
    "import pandas as pd\n",
    "import numpy as np\n",
    "c=pd.Series('4',index=[0,1,2,3])\n",
    "print(c)"
   ]
  },
  {
   "cell_type": "code",
   "execution_count": 8,
   "id": "220c7563",
   "metadata": {},
   "outputs": [
    {
     "name": "stdout",
     "output_type": "stream",
     "text": [
      "\n",
      "Series: 0    4\n",
      "1    4\n",
      "2    4\n",
      "3    4\n",
      "dtype: object\n",
      "\n",
      "Index: Index([0, 1, 2, 3], dtype='int64')\n",
      "\n",
      "Values: ['4' '4' '4' '4']\n",
      "\n",
      "Shape: (4,)\n",
      "\n",
      "Dimensions: 1\n",
      "\n",
      "Size: 4\n"
     ]
    }
   ],
   "source": [
    "import pandas as pd\n",
    "import numpy as np\n",
    "c=pd.Series('4',index=[0,1,2,3])\n",
    "print(\"\\nSeries:\",c)\n",
    "print(\"\\nIndex:\",c.index)\n",
    "print(\"\\nValues:\",c.values)\n",
    "print(\"\\nShape:\",c.shape)\n",
    "print(\"\\nDimensions:\",c.ndim)\n",
    "print(\"\\nSize:\",c.size)"
   ]
  },
  {
   "cell_type": "code",
   "execution_count": 10,
   "id": "202f41dd",
   "metadata": {},
   "outputs": [
    {
     "name": "stdout",
     "output_type": "stream",
     "text": [
      "\n",
      "Series:\n",
      " 0    K\n",
      "1    A\n",
      "2    V\n",
      "3    I\n",
      "4    N\n",
      "dtype: object\n",
      "\n",
      "Index: RangeIndex(start=0, stop=5, step=1)\n",
      "\n",
      "Values: ['K' 'A' 'V' 'I' 'N']\n",
      "\n",
      "Shape: (5,)\n",
      "\n",
      "Dimensions: 1\n",
      "\n",
      "Size: 5\n"
     ]
    }
   ],
   "source": [
    "import pandas as pd\n",
    "import numpy as np\n",
    "arr=np.array(['K','A','V','I','N'])\n",
    "d=pd.Series(arr)\n",
    "print(\"\\nSeries:\\n\",d)\n",
    "print(\"\\nIndex:\",d.index)\n",
    "print(\"\\nValues:\",d.values)\n",
    "print(\"\\nShape:\",d.shape)\n",
    "print(\"\\nDimensions:\",d.ndim)\n",
    "print(\"\\nSize:\",d.size)"
   ]
  }
 ],
 "metadata": {
  "kernelspec": {
   "display_name": "Python 3 (ipykernel)",
   "language": "python",
   "name": "python3"
  },
  "language_info": {
   "codemirror_mode": {
    "name": "ipython",
    "version": 3
   },
   "file_extension": ".py",
   "mimetype": "text/x-python",
   "name": "python",
   "nbconvert_exporter": "python",
   "pygments_lexer": "ipython3",
   "version": "3.11.5"
  }
 },
 "nbformat": 4,
 "nbformat_minor": 5
}
