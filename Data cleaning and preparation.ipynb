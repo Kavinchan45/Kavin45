{
 "cells": [
  {
   "cell_type": "code",
   "execution_count": 10,
   "id": "7c71cc4d",
   "metadata": {},
   "outputs": [
    {
     "name": "stdout",
     "output_type": "stream",
     "text": [
      "Original dataframe with NaN\n",
      "         One       Two     Three\n",
      "a  1.863351 -0.503187 -0.536067\n",
      "b  1.524393  1.080107 -0.724128\n",
      "c       NaN       NaN       NaN\n",
      "d  1.480491 -1.224310  0.013405\n",
      "e       NaN       NaN       NaN\n",
      "f  1.200131 -0.730482 -0.899581\n",
      "\n",
      "Dropped Dataframe\n",
      "         One       Two     Three\n",
      "a  1.863351 -0.503187 -0.536067\n",
      "b  1.524393  1.080107 -0.724128\n",
      "d  1.480491 -1.224310  0.013405\n",
      "f  1.200131 -0.730482 -0.899581\n"
     ]
    }
   ],
   "source": [
    "import pandas as pd\n",
    "import numpy as np\n",
    "df=pd.DataFrame(np.random.randn(4,3),index=['a','b','d','f'],columns=['One','Two','Three'])\n",
    "df=df.reindex(['a','b','c','d','e','f'])\n",
    "print(\"Original dataframe with NaN\\n\",df)\n",
    "print(\"\\nDropped Dataframe\\n\",df.dropna())"
   ]
  },
  {
   "cell_type": "code",
   "execution_count": 9,
   "id": "50744194",
   "metadata": {},
   "outputs": [
    {
     "name": "stdout",
     "output_type": "stream",
     "text": [
      "Original dataframe with NaN\n",
      "         One       Two     Three\n",
      "a -0.280443 -0.493224  0.555750\n",
      "b  0.862043 -0.646838 -0.549033\n",
      "c       NaN       NaN       NaN\n",
      "\n",
      "NaN replaced with '0'\n",
      "        One       Two     Three\n",
      "a -0.280443 -0.493224  0.555750\n",
      "b  0.862043 -0.646838 -0.549033\n",
      "c  0.000000  0.000000  0.000000\n"
     ]
    }
   ],
   "source": [
    "import pandas as pd\n",
    "import numpy as np\n",
    "df=pd.DataFrame(np.random.randn(4,3),index=['a','b','d','f'],columns=['One','Two','Three'])\n",
    "df=df.reindex(['a','b','c'])\n",
    "print(\"Original dataframe with NaN\\n\",df)\n",
    "print(\"\\nNaN replaced with '0'\")\n",
    "print(df.fillna(0))"
   ]
  },
  {
   "cell_type": "code",
   "execution_count": 8,
   "id": "5d6a71e5",
   "metadata": {},
   "outputs": [
    {
     "name": "stdout",
     "output_type": "stream",
     "text": [
      "Original dataframe with NaN\n",
      "         One       Two     Three\n",
      "a  0.431616 -0.921785 -1.680482\n",
      "b  1.141523  0.469296  0.603736\n",
      "c       NaN       NaN       NaN\n",
      "d  1.622067 -0.372393  1.506455\n",
      "e       NaN       NaN       NaN\n",
      "f  0.505259  0.597655 -0.457333\n",
      "\n",
      "NaN with True fill:\n",
      "a    False\n",
      "b    False\n",
      "c     True\n",
      "d    False\n",
      "e     True\n",
      "f    False\n",
      "Name: One, dtype: bool\n"
     ]
    }
   ],
   "source": [
    "import pandas as pd\n",
    "import numpy as np\n",
    "df=pd.DataFrame(np.random.randn(4,3),index=['a','b','d','f'],columns=['One','Two','Three'])\n",
    "df=df.reindex(['a','b','c','d','e','f'])\n",
    "print(\"Original dataframe with NaN\\n\",df)\n",
    "print(\"\\nNaN with True fill:\")\n",
    "print(df['One'].isnull())"
   ]
  },
  {
   "cell_type": "code",
   "execution_count": 11,
   "id": "d7cc0d1f",
   "metadata": {},
   "outputs": [
    {
     "name": "stdout",
     "output_type": "stream",
     "text": [
      "Original dataframe with NaN\n",
      "         One       Two     Three\n",
      "a  0.332739  0.483405 -1.006106\n",
      "b  0.371750 -0.338197  0.518739\n",
      "c       NaN       NaN       NaN\n",
      "\n",
      "NaN filled with background values\n",
      "        One       Two     Three\n",
      "a  0.332739  0.483405 -1.006106\n",
      "b  0.371750 -0.338197  0.518739\n",
      "c       NaN       NaN       NaN\n"
     ]
    }
   ],
   "source": [
    "import pandas as pd\n",
    "import numpy as np\n",
    "df=pd.DataFrame(np.random.randn(4,3),index=['a','b','d','f'],columns=['One','Two','Three'])\n",
    "df=df.reindex(['a','b','c'])\n",
    "print(\"Original dataframe with NaN\\n\",df)\n",
    "print(\"\\nNaN filled with background values\")\n",
    "print(df.fillna(method='bfill'))"
   ]
  },
  {
   "cell_type": "code",
   "execution_count": 12,
   "id": "03b9e097",
   "metadata": {},
   "outputs": [
    {
     "name": "stdout",
     "output_type": "stream",
     "text": [
      "Original dataframe with NaN\n",
      "         One       Two     Three\n",
      "a -1.195535  1.209702 -0.726761\n",
      "b  0.675724  0.060668  0.366007\n",
      "c       NaN       NaN       NaN\n",
      "\n",
      "NaN filled with forground values\n",
      "        One       Two     Three\n",
      "a -1.195535  1.209702 -0.726761\n",
      "b  0.675724  0.060668  0.366007\n",
      "c  0.675724  0.060668  0.366007\n"
     ]
    }
   ],
   "source": [
    "import pandas as pd\n",
    "import numpy as np\n",
    "df=pd.DataFrame(np.random.randn(4,3),index=['a','b','d','f'],columns=['One','Two','Three'])\n",
    "df=df.reindex(['a','b','c'])\n",
    "print(\"Original dataframe with NaN\\n\",df)\n",
    "print(\"\\nNaN filled with forground values\")\n",
    "print(df.fillna(method='ffill'))"
   ]
  },
  {
   "cell_type": "code",
   "execution_count": 15,
   "id": "461cd858",
   "metadata": {},
   "outputs": [
    {
     "name": "stdout",
     "output_type": "stream",
     "text": [
      "Original dataframe\n",
      "    One  Two\n",
      "0   10   60\n",
      "1   20   70\n",
      "2   80   80\n",
      "3   40    0\n",
      "4   50   10\n",
      "Print dataframe with replaced values\n",
      "   One  Two\n",
      "0    5   60\n",
      "1   20   70\n",
      "2   30   30\n",
      "3   40    0\n",
      "4   50    5\n"
     ]
    }
   ],
   "source": [
    "df=pd.DataFrame({'One':[10,20,80,40,50],'Two':[60,70,80,0,10]})\n",
    "print(\"Original dataframe\\n\",df)\n",
    "print(\"Print dataframe with replaced values\")\n",
    "print(df.replace({10:5,80:30}))"
   ]
  },
  {
   "cell_type": "code",
   "execution_count": null,
   "id": "70c4d49f",
   "metadata": {},
   "outputs": [],
   "source": []
  }
 ],
 "metadata": {
  "kernelspec": {
   "display_name": "Python 3 (ipykernel)",
   "language": "python",
   "name": "python3"
  },
  "language_info": {
   "codemirror_mode": {
    "name": "ipython",
    "version": 3
   },
   "file_extension": ".py",
   "mimetype": "text/x-python",
   "name": "python",
   "nbconvert_exporter": "python",
   "pygments_lexer": "ipython3",
   "version": "3.11.5"
  }
 },
 "nbformat": 4,
 "nbformat_minor": 5
}
