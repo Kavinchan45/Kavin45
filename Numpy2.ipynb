{
 "cells": [
  {
   "cell_type": "code",
   "execution_count": 1,
   "id": "144128d7",
   "metadata": {},
   "outputs": [
    {
     "name": "stdout",
     "output_type": "stream",
     "text": [
      "Original array: [1 2 3 4 5 6 7 8 9]\n",
      "Sliced array [3 4 5]\n"
     ]
    }
   ],
   "source": [
    "#Slicing array\n",
    "import numpy as np\n",
    "a=np.array([1,2,3,4,5,6,7,8,9])\n",
    "#slice the index from 2 to 5\n",
    "slice1=a[2:5]\n",
    "print(\"Original array:\",a)\n",
    "print(\"Sliced array\",slice1)"
   ]
  },
  {
   "cell_type": "code",
   "execution_count": 7,
   "id": "5b68b3d3",
   "metadata": {},
   "outputs": [
    {
     "name": "stdout",
     "output_type": "stream",
     "text": [
      "Original array: [1 2 3 4 5 6 7 8 9]\n",
      "Sliced array with step 2: [1 3 5 7 9]\n"
     ]
    }
   ],
   "source": [
    "#Slicing with step\n",
    "import numpy as np\n",
    "b=np.array([1,2,3,4,5,6,7,8,9])\n",
    "slice2=b[::2]\n",
    "print(\"Original array:\",b)\n",
    "print(\"Sliced array with step 2:\",slice2)"
   ]
  },
  {
   "cell_type": "code",
   "execution_count": 8,
   "id": "a814546a",
   "metadata": {},
   "outputs": [
    {
     "name": "stdout",
     "output_type": "stream",
     "text": [
      "Original array: [1 2 3 4 5 6 7 8 9]\n",
      "Reversed array: [9 8 7 6 5 4 3 2 1]\n"
     ]
    }
   ],
   "source": [
    "#Reversal \n",
    "import numpy as np\n",
    "c=np.array([1,2,3,4,5,6,7,8,9])\n",
    "revarr=c[::-1]\n",
    "print(\"Original array:\",c)\n",
    "print(\"Reversed array:\",revarr)"
   ]
  },
  {
   "cell_type": "code",
   "execution_count": 12,
   "id": "90afb43b",
   "metadata": {},
   "outputs": [
    {
     "name": "stdout",
     "output_type": "stream",
     "text": [
      "Original array:\n",
      " [[1 2 3]\n",
      " [4 5 6]\n",
      " [7 8 9]]\n",
      "Sub array:\n",
      " [[2 3]\n",
      " [5 6]]\n"
     ]
    }
   ],
   "source": [
    "#Sub array rows\n",
    "import numpy as np\n",
    "d=np.array([[1,2,3],[4,5,6],[7,8,9]])\n",
    "subarr=d[0:2,1:3]\n",
    "print(\"Original array:\\n\",d)\n",
    "print(\"Sub array:\\n\",subarr)"
   ]
  },
  {
   "cell_type": "code",
   "execution_count": 14,
   "id": "da13da2a",
   "metadata": {},
   "outputs": [
    {
     "name": "stdout",
     "output_type": "stream",
     "text": [
      "Original array:\n",
      " [[1 2 3]\n",
      " [4 5 6]\n",
      " [7 8 9]]\n",
      "Sub array:\n",
      " [[1]\n",
      " [4]]\n"
     ]
    }
   ],
   "source": [
    "#Extraction element\n",
    "import numpy as np\n",
    "e=np.array([[1,2,3],[4,5,6],[7,8,9]])\n",
    "subarr=e[:2,:1]\n",
    "print(\"Original array:\\n\",e)\n",
    "print(\"Sub array:\\n\",subarr)"
   ]
  },
  {
   "cell_type": "code",
   "execution_count": 16,
   "id": "d7e3b30f",
   "metadata": {},
   "outputs": [
    {
     "name": "stdout",
     "output_type": "stream",
     "text": [
      "Original array:\n",
      " [[1 2 3]\n",
      " [4 5 6]\n",
      " [7 8 9]]\n",
      "Sub array:\n",
      " [1 4 7]\n"
     ]
    }
   ],
   "source": [
    "#Extraction column\n",
    "import numpy as np\n",
    "f=np.array([[1,2,3],[4,5,6],[7,8,9]])\n",
    "subarr=f[:,0]\n",
    "print(\"Original array:\\n\",f)\n",
    "print(\"Sub array:\\n\",subarr)"
   ]
  },
  {
   "cell_type": "code",
   "execution_count": 17,
   "id": "2d0aefc2",
   "metadata": {},
   "outputs": [
    {
     "name": "stdout",
     "output_type": "stream",
     "text": [
      "Original array:\n",
      " [[1 2 3]\n",
      " [4 5 6]\n",
      " [7 8 9]]\n",
      "Sub array:\n",
      " [1 2 3]\n"
     ]
    }
   ],
   "source": [
    "#Extraction row\n",
    "import numpy as np\n",
    "g=np.array([[1,2,3],[4,5,6],[7,8,9]])\n",
    "subarr=g[0,:]\n",
    "print(\"Original array:\\n\",g)\n",
    "print(\"Sub array:\\n\",subarr)"
   ]
  },
  {
   "cell_type": "code",
   "execution_count": 18,
   "id": "7650c1a1",
   "metadata": {},
   "outputs": [
    {
     "name": "stdout",
     "output_type": "stream",
     "text": [
      "Original array:\n",
      " [[1 2 3]\n",
      " [4 5 6]\n",
      " [7 8 9]]\n",
      "Sub array:\n",
      " [[1 2 3]\n",
      " [4 5 6]]\n"
     ]
    }
   ],
   "source": [
    "#Extraction two rows\n",
    "import numpy as np\n",
    "h=np.array([[1,2,3],[4,5,6],[7,8,9]])\n",
    "subarr=h[0:2:1]\n",
    "print(\"Original array:\\n\",h)\n",
    "print(\"Sub array:\\n\",subarr)"
   ]
  },
  {
   "cell_type": "code",
   "execution_count": 31,
   "id": "329e3a51",
   "metadata": {},
   "outputs": [
    {
     "name": "stdout",
     "output_type": "stream",
     "text": [
      "Element1: 10\n",
      "Element2: 40\n"
     ]
    }
   ],
   "source": [
    "#Array indexing \n",
    "import numpy as np\n",
    "import array\n",
    "i=array.array('i',[10,20,30,40,50])\n",
    "print(\"Element1:\",i[0])\n",
    "print(\"Element2:\",i[3])"
   ]
  },
  {
   "cell_type": "code",
   "execution_count": 32,
   "id": "7e25eb05",
   "metadata": {},
   "outputs": [
    {
     "name": "stdout",
     "output_type": "stream",
     "text": [
      "Element1: 1\n",
      "Element2: 8\n"
     ]
    }
   ],
   "source": [
    "#Array indexing \n",
    "import numpy as np\n",
    "j=np.array([[1,2,3],[4,5,6],[7,8,9]])\n",
    "print(\"Element1:\",j[0,0])\n",
    "print(\"Element2:\",j[2,1])"
   ]
  },
  {
   "cell_type": "code",
   "execution_count": 35,
   "id": "e9f74485",
   "metadata": {},
   "outputs": [
    {
     "name": "stdout",
     "output_type": "stream",
     "text": [
      "Sub array: [1 2 3 4 5]\n"
     ]
    }
   ],
   "source": [
    "#Basic indexing\n",
    "import numpy as np\n",
    "j1=np.array([1,2,3,4,5,6,7,8,9])\n",
    "print(\"Sub array:\",j1[0:5])"
   ]
  },
  {
   "cell_type": "code",
   "execution_count": 14,
   "id": "f3a23fa1",
   "metadata": {},
   "outputs": [
    {
     "name": "stdout",
     "output_type": "stream",
     "text": [
      "Sub array: [1 2 3 4 5 6]\n"
     ]
    }
   ],
   "source": [
    "#Negative indexing\n",
    "import numpy as np\n",
    "j2=np.array([1,2,3,4,5,6,7,8,9])\n",
    "print(\"Sub array:\",j2[0:-3])"
   ]
  },
  {
   "cell_type": "code",
   "execution_count": 36,
   "id": "fbd2742e",
   "metadata": {},
   "outputs": [
    {
     "name": "stdout",
     "output_type": "stream",
     "text": [
      "Sub array: [6 7 8 9]\n"
     ]
    }
   ],
   "source": [
    "#Slicing indexing\n",
    "import numpy as np\n",
    "j3=np.array([1,2,3,4,5,6,7,8,9])\n",
    "print(\"Sub array:\",j3[j3>5])"
   ]
  },
  {
   "cell_type": "code",
   "execution_count": 5,
   "id": "7a5817fb",
   "metadata": {},
   "outputs": [
    {
     "name": "stdout",
     "output_type": "stream",
     "text": [
      "Fancy indexing: [2 4]\n"
     ]
    }
   ],
   "source": [
    "#Fancy indexing\n",
    "import numpy as np\n",
    "j4=np.array([1,2,3,4,5,6,7,8,9])\n",
    "print(\"Fancy indexing:\",j4[[1,3]])"
   ]
  },
  {
   "cell_type": "code",
   "execution_count": 15,
   "id": "6cf5a4ab",
   "metadata": {},
   "outputs": [
    {
     "name": "stdout",
     "output_type": "stream",
     "text": [
      "[[[1 5]\n",
      "  [2 6]]\n",
      "\n",
      " [[3 7]\n",
      "  [4 8]]]\n"
     ]
    }
   ],
   "source": [
    "#Horizontal join\n",
    "import numpy as np\n",
    "l1=np.array([[1,2],[3,4]])\n",
    "l2=np.array([[5,6],[7,8]])\n",
    "l1array=np.hstack((l1,l2))\n",
    "print(resarray)"
   ]
  },
  {
   "cell_type": "code",
   "execution_count": 16,
   "id": "0adf78e4",
   "metadata": {},
   "outputs": [
    {
     "name": "stdout",
     "output_type": "stream",
     "text": [
      "[[[1 5]\n",
      "  [2 6]]\n",
      "\n",
      " [[3 7]\n",
      "  [4 8]]]\n"
     ]
    }
   ],
   "source": [
    "#Vertical join\n",
    "import numpy as np\n",
    "l1=np.array([[1,2],[3,4]])\n",
    "l2=np.array([[5,6],[7,8]])\n",
    "l2array=np.vstack((l1,l2))\n",
    "print(resarray)"
   ]
  },
  {
   "cell_type": "code",
   "execution_count": 13,
   "id": "753dd6f9",
   "metadata": {},
   "outputs": [
    {
     "name": "stdout",
     "output_type": "stream",
     "text": [
      "[[[1 5]\n",
      "  [2 6]]\n",
      "\n",
      " [[3 7]\n",
      "  [4 8]]]\n"
     ]
    }
   ],
   "source": [
    "#Depth join\n",
    "import numpy as np\n",
    "l1=np.array([[1,2],[3,4]])\n",
    "l2=np.array([[5,6],[7,8]])\n",
    "l3array=np.dstack((l1,l2))\n",
    "print(resarray)"
   ]
  },
  {
   "cell_type": "code",
   "execution_count": 19,
   "id": "358b6bf7",
   "metadata": {},
   "outputs": [
    {
     "name": "stdout",
     "output_type": "stream",
     "text": [
      "[array([1, 2]), array([3, 4]), array([5, 6])]\n"
     ]
    }
   ],
   "source": [
    "#Splitting of array\n",
    "import numpy as np\n",
    "m=np.array([1,2,3,4,5,6])\n",
    "marray=np.split(m,3)\n",
    "print(marray)"
   ]
  },
  {
   "cell_type": "code",
   "execution_count": 21,
   "id": "240bdda5",
   "metadata": {},
   "outputs": [
    {
     "name": "stdout",
     "output_type": "stream",
     "text": [
      "[array([1, 2]), array([3, 4]), array([5])]\n"
     ]
    }
   ],
   "source": [
    "#Splitting of array\n",
    "import numpy as np\n",
    "m=np.array([1,2,3,4,5])\n",
    "marray=np.array_split(m,3)\n",
    "print(marray)"
   ]
  },
  {
   "cell_type": "code",
   "execution_count": null,
   "id": "55e12a82",
   "metadata": {},
   "outputs": [],
   "source": []
  }
 ],
 "metadata": {
  "kernelspec": {
   "display_name": "Python 3 (ipykernel)",
   "language": "python",
   "name": "python3"
  },
  "language_info": {
   "codemirror_mode": {
    "name": "ipython",
    "version": 3
   },
   "file_extension": ".py",
   "mimetype": "text/x-python",
   "name": "python",
   "nbconvert_exporter": "python",
   "pygments_lexer": "ipython3",
   "version": "3.11.5"
  }
 },
 "nbformat": 4,
 "nbformat_minor": 5
}
