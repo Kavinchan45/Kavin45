{
 "cells": [
  {
   "cell_type": "code",
   "execution_count": 6,
   "id": "6f3154c8",
   "metadata": {},
   "outputs": [
    {
     "name": "stdout",
     "output_type": "stream",
     "text": [
      "Index of 6: (array([1, 4]),)\n"
     ]
    }
   ],
   "source": [
    "#Index retrieval\n",
    "import numpy as np\n",
    "arr=np.array([1,6,2,7,6,4])\n",
    "a1=np.where(arr==6)\n",
    "print(\"Index of 6:\",a1)"
   ]
  },
  {
   "cell_type": "code",
   "execution_count": 5,
   "id": "20aa284b",
   "metadata": {},
   "outputs": [
    {
     "name": "stdout",
     "output_type": "stream",
     "text": [
      "Index of 7: (array([3]),)\n"
     ]
    }
   ],
   "source": [
    "#Index retrieval\n",
    "import numpy as np\n",
    "arr=np.array([1,6,2,7,6,4])\n",
    "a2=np.where(arr==7)\n",
    "print(\"Index of 7:\",a2)"
   ]
  },
  {
   "cell_type": "code",
   "execution_count": 9,
   "id": "918cd509",
   "metadata": {},
   "outputs": [
    {
     "name": "stdout",
     "output_type": "stream",
     "text": [
      "Index of Even numbers: (array([1, 2, 4, 5]),)\n"
     ]
    }
   ],
   "source": [
    "#Index retrieval\n",
    "import numpy as np\n",
    "arr=np.array([1,6,2,7,6,4])\n",
    "a3=np.where(arr%2==0)\n",
    "print(\"Index of Even numbers:\",a3)"
   ]
  },
  {
   "cell_type": "code",
   "execution_count": 10,
   "id": "8118664f",
   "metadata": {},
   "outputs": [
    {
     "name": "stdout",
     "output_type": "stream",
     "text": [
      "Index of 7: (array([0, 3, 5]),)\n"
     ]
    }
   ],
   "source": [
    "#Index retrieval\n",
    "import numpy as np\n",
    "arr=np.array([1,6,2,7,6,4])\n",
    "a4=np.where(arr%3==1)\n",
    "print(\"Index of 7:\",a4)"
   ]
  },
  {
   "cell_type": "code",
   "execution_count": 15,
   "id": "e5fcdc3e",
   "metadata": {},
   "outputs": [
    {
     "name": "stdout",
     "output_type": "stream",
     "text": [
      "Index to be marked: 5\n"
     ]
    }
   ],
   "source": [
    "#Index marking for insertion\n",
    "import numpy as np\n",
    "arr=np.array([0,1,2,2,7,8,9])\n",
    "b1=np.searchsorted(arr,8,side='left')\n",
    "print(\"Index to be marked:\",b1)"
   ]
  },
  {
   "cell_type": "code",
   "execution_count": 14,
   "id": "2e742f47",
   "metadata": {},
   "outputs": [
    {
     "name": "stdout",
     "output_type": "stream",
     "text": [
      "Index to be marked: 6\n"
     ]
    }
   ],
   "source": [
    "#Index marking for insertion\n",
    "import numpy as np\n",
    "arr=np.array([0,1,2,2,7,8,9])\n",
    "b2=np.searchsorted(arr,8,side='right')\n",
    "print(\"Index to be marked:\",b2)"
   ]
  },
  {
   "cell_type": "code",
   "execution_count": 27,
   "id": "a9c5af99",
   "metadata": {},
   "outputs": [
    {
     "name": "stdout",
     "output_type": "stream",
     "text": [
      "Sorted array: [2 4 5 6 7 9]\n"
     ]
    }
   ],
   "source": [
    "#Sorting\n",
    "import numpy as np\n",
    "c1=np.array([9,5,2,7,6,4])\n",
    "print(\"Sorted array:\",np.sort(c1))"
   ]
  },
  {
   "cell_type": "code",
   "execution_count": 28,
   "id": "c8b0ed61",
   "metadata": {},
   "outputs": [
    {
     "name": "stdout",
     "output_type": "stream",
     "text": [
      "Sorted array: [[4 7 9]\n",
      " [1 4 9]]\n"
     ]
    }
   ],
   "source": [
    "#Sorting\n",
    "import numpy as np\n",
    "c2=np.array([[7,4,9],[9,1,4]])\n",
    "print(\"Sorted array:\",np.sort(c2))"
   ]
  },
  {
   "cell_type": "code",
   "execution_count": 29,
   "id": "ccaeaa07",
   "metadata": {},
   "outputs": [
    {
     "name": "stdout",
     "output_type": "stream",
     "text": [
      "Index: [ 78 100]\n"
     ]
    }
   ],
   "source": [
    "#Boolean indexing\n",
    "import numpy as np\n",
    "arr=np.array([31,78,69,100])\n",
    "d1=[False,True,False,True]\n",
    "darr=arr[d1]\n",
    "print(\"Index:\",darr)"
   ]
  },
  {
   "cell_type": "code",
   "execution_count": 30,
   "id": "7bc1bc29",
   "metadata": {},
   "outputs": [
    {
     "name": "stdout",
     "output_type": "stream",
     "text": [
      "Index of False: []\n"
     ]
    }
   ],
   "source": [
    "#Boolean indexing\n",
    "import numpy as np\n",
    "arr=np.array([31,78,69,100])\n",
    "d2=[False,False,False,False]\n",
    "darr=arr[d2]\n",
    "print(\"Index of False:\",darr)"
   ]
  },
  {
   "cell_type": "code",
   "execution_count": 31,
   "id": "cf571db7",
   "metadata": {},
   "outputs": [
    {
     "name": "stdout",
     "output_type": "stream",
     "text": [
      "Index of true: [ 31  78  69 100]\n"
     ]
    }
   ],
   "source": [
    "#Boolean indexing\n",
    "import numpy as np\n",
    "arr=np.array([31,78,69,100])\n",
    "d3=[True,True,True,True]\n",
    "darr=arr[d3]\n",
    "print(\"Index of true:\",darr)"
   ]
  },
  {
   "cell_type": "code",
   "execution_count": 32,
   "id": "9529c4a8",
   "metadata": {},
   "outputs": [
    {
     "name": "stdout",
     "output_type": "stream",
     "text": [
      "[False  True False  True]\n",
      "Filtering array: [ 78 100]\n"
     ]
    }
   ],
   "source": [
    "#Filter \n",
    "import numpy as np\n",
    "arr=np.array([31,78,69,100])\n",
    "filter_arr=arr>70\n",
    "e=arr[filter_arr]\n",
    "print(filter_arr)\n",
    "print(\"Filtering array:\",e)"
   ]
  }
 ],
 "metadata": {
  "kernelspec": {
   "display_name": "Python 3 (ipykernel)",
   "language": "python",
   "name": "python3"
  },
  "language_info": {
   "codemirror_mode": {
    "name": "ipython",
    "version": 3
   },
   "file_extension": ".py",
   "mimetype": "text/x-python",
   "name": "python",
   "nbconvert_exporter": "python",
   "pygments_lexer": "ipython3",
   "version": "3.11.5"
  }
 },
 "nbformat": 4,
 "nbformat_minor": 5
}
