{
 "cells": [
  {
   "cell_type": "code",
   "execution_count": 39,
   "id": "44cf647b",
   "metadata": {},
   "outputs": [
    {
     "name": "stdout",
     "output_type": "stream",
     "text": [
      "    Emp ID Name Prefix First Name Middle Initial Last Name Gender  \\\n",
      "0   677509        Drs.       Lois              H    Walker      F   \n",
      "1   940761         Ms.     Brenda              S  Robinson      F   \n",
      "2   428945         Dr.        Joe              W  Robinson      M   \n",
      "3   408351        Drs.      Diane              I     Evans      F   \n",
      "4   193819         Mr.   Benjamin              R   Russell      M   \n",
      "..     ...         ...        ...            ...       ...    ...   \n",
      "95  639892         Mr.       Jose              K      Hill      M   \n",
      "96  704709         Dr.     Harold              Z    Nelson      M   \n",
      "97  461593         Ms.     Nicole              O      Ward      F   \n",
      "98  392491        Mrs.    Theresa              R    Murphy      F   \n",
      "99  495141        Drs.      Tammy              B     Young      F   \n",
      "\n",
      "                          E Mail     Father's Name       Mother's Name  \\\n",
      "0        lois.walker@hotmail.com     Donald Walker        Helen Walker   \n",
      "1      brenda.robinson@gmail.com  Raymond Robinson       Judy Robinson   \n",
      "2         joe.robinson@gmail.com    Scott Robinson  Stephanie Robinson   \n",
      "3          diane.evans@yahoo.com       Jason Evans      Michelle Evans   \n",
      "4   benjamin.russell@charter.net   Gregory Russell   Elizabeth Russell   \n",
      "..                           ...               ...                 ...   \n",
      "95         jose.hill@hotmail.com       Carlos Hill           Anna Hill   \n",
      "96       harold.nelson@gmail.com    Richard Nelson       Pamela Nelson   \n",
      "97         nicole.ward@yahoo.com        Ralph Ward          Julia Ward   \n",
      "98      theresa.murphy@gmail.com     George Murphy   Jacqueline Murphy   \n",
      "99       tammy.young@comcast.net      Andrew Young        Brenda Young   \n",
      "\n",
      "   Mother's Maiden Name  Salary  \n",
      "0                 Lewis  168251  \n",
      "1                 Perry   51063  \n",
      "2                Taylor   50155  \n",
      "3                 Allen  180294  \n",
      "4                Nelson  117642  \n",
      "..                  ...     ...  \n",
      "95                Hayes  129774  \n",
      "96                Smith  156194  \n",
      "97                  Lee   95673  \n",
      "98             Peterson   51015  \n",
      "99             Robinson   93650  \n",
      "\n",
      "[100 rows x 11 columns]\n"
     ]
    }
   ],
   "source": [
    "import pandas as pd\n",
    "b=pd.read_csv(\"/Users/student/Downloads/LoadPractice45.csv\")\n",
    "print(b)"
   ]
  },
  {
   "cell_type": "code",
   "execution_count": 40,
   "id": "d5e369cc",
   "metadata": {},
   "outputs": [
    {
     "name": "stdout",
     "output_type": "stream",
     "text": [
      "Columns Index(['Emp ID', 'Name Prefix', 'First Name', 'Middle Initial', 'Last Name',\n",
      "       'Gender', 'E Mail', 'Father's Name', 'Mother's Name',\n",
      "       'Mother's Maiden Name', 'Salary'],\n",
      "      dtype='object')\n",
      "(100, 11)\n"
     ]
    }
   ],
   "source": [
    "import pandas as pd\n",
    "b=pd.read_csv(\"/Users/student/Downloads/LoadPractice45.csv\")\n",
    "df=pd.DataFrame(b)\n",
    "print(\"Columns\",df.columns)\n",
    "print(df.shape)"
   ]
  },
  {
   "cell_type": "code",
   "execution_count": 42,
   "id": "56f912cc",
   "metadata": {},
   "outputs": [
    {
     "name": "stdout",
     "output_type": "stream",
     "text": [
      "EMAIL 0          lois.walker@hotmail.com\n",
      "1        brenda.robinson@gmail.com\n",
      "2           joe.robinson@gmail.com\n",
      "3            diane.evans@yahoo.com\n",
      "4     benjamin.russell@charter.net\n",
      "                  ...             \n",
      "95           jose.hill@hotmail.com\n",
      "96         harold.nelson@gmail.com\n",
      "97           nicole.ward@yahoo.com\n",
      "98        theresa.murphy@gmail.com\n",
      "99         tammy.young@comcast.net\n",
      "Name: E Mail, Length: 100, dtype: object\n"
     ]
    }
   ],
   "source": [
    "import pandas as pd\n",
    "b=pd.read_csv(\"/Users/student/Downloads/LoadPractice45.csv\")\n",
    "print(\"EMAIL\",df['E Mail'])"
   ]
  },
  {
   "cell_type": "code",
   "execution_count": 11,
   "id": "c311e1b0",
   "metadata": {},
   "outputs": [
    {
     "name": "stdout",
     "output_type": "stream",
     "text": [
      "   Emp ID Name Prefix First Name Middle Initial Last Name Gender  \\\n",
      "5  499687         Mr.    Patrick              F    Bailey      M   \n",
      "6  539712         Ms.      Nancy              T     Baker      F   \n",
      "7  380086        Mrs.      Carol              V    Murphy      F   \n",
      "8  477616        Hon.    Frances              B     Young      F   \n",
      "9  162402        Hon.      Diana              T  Peterson      F   \n",
      "\n",
      "                         E Mail      Father's Name       Mother's Name  \\\n",
      "5        patrick.bailey@aol.com       Ralph Bailey        Laura Bailey   \n",
      "6            nancy.baker@bp.com        Scott Baker          Judy Baker   \n",
      "7        carol.murphy@gmail.com      Eugene Murphy    Katherine Murphy   \n",
      "8       frances.young@gmail.com         Fred Young       Lillian Young   \n",
      "9  diana.peterson@hotmail.co.uk  Jonathan Peterson  Christina Peterson   \n",
      "\n",
      "  Mother's Maiden Name  Salary  \n",
      "5            Henderson   72305  \n",
      "6               Thomas   98189  \n",
      "7             Peterson   60918  \n",
      "8                 Diaz  121587  \n",
      "9                 Ross   43010  \n"
     ]
    }
   ],
   "source": [
    "import pandas as pd\n",
    "b=pd.read_csv(\"/Users/student/Downloads/LoadPractice45.csv\")\n",
    "print(df[5:10])"
   ]
  },
  {
   "cell_type": "code",
   "execution_count": 41,
   "id": "56d1a2d7",
   "metadata": {},
   "outputs": [
    {
     "name": "stdout",
     "output_type": "stream",
     "text": [
      "Particular person details\n",
      " Emp ID                                 456747\n",
      "Name Prefix                               Mr.\n",
      "First Name                                Roy\n",
      "Middle Initial                              Z\n",
      "Last Name                             Griffin\n",
      "Gender                                      M\n",
      "E Mail                  roy.griffin@yahoo.com\n",
      "Father's Name                Benjamin Griffin\n",
      "Mother's Name                   Wanda Griffin\n",
      "Mother's Maiden Name                  Simmons\n",
      "Salary                                 170895\n",
      "Name: 33, dtype: object\n"
     ]
    }
   ],
   "source": [
    "import pandas as pd\n",
    "b=pd.read_csv(\"/Users/student/Downloads/LoadPractice45.csv\")\n",
    "print(\"Particular person details\\n\",df.loc[33])"
   ]
  },
  {
   "cell_type": "code",
   "execution_count": 23,
   "id": "3969cf5c",
   "metadata": {},
   "outputs": [
    {
     "name": "stdout",
     "output_type": "stream",
     "text": [
      "Empty DataFrame\n",
      "Columns: [Emp ID, Name Prefix, First Name, Middle Initial, Last Name, Gender, E Mail, Father's Name, Mother's Name, Mother's Maiden Name, Salary]\n",
      "Index: []\n"
     ]
    }
   ],
   "source": [
    "import pandas as pd\n",
    "d=pd.read_csv(\"/Users/student/Downloads/LoadPractice45.csv\")\n",
    "print(d.loc[d['Salary']==123456])"
   ]
  },
  {
   "cell_type": "code",
   "execution_count": 25,
   "id": "9d45aed3",
   "metadata": {},
   "outputs": [
    {
     "name": "stdout",
     "output_type": "stream",
     "text": [
      "0     168.419419\n",
      "1      51.114114\n",
      "2      50.205205\n",
      "3     180.474474\n",
      "4     117.759760\n",
      "         ...    \n",
      "95    129.903904\n",
      "96    156.350350\n",
      "97     95.768769\n",
      "98     51.066066\n",
      "99     93.743744\n",
      "Name: Salary, Length: 100, dtype: float64\n"
     ]
    }
   ],
   "source": [
    "import pandas as pd\n",
    "d=pd.read_csv(\"/Users/student/Downloads/LoadPractice45.csv\")\n",
    "df=b['Salary']/999\n",
    "print(df)"
   ]
  }
 ],
 "metadata": {
  "kernelspec": {
   "display_name": "Python 3 (ipykernel)",
   "language": "python",
   "name": "python3"
  },
  "language_info": {
   "codemirror_mode": {
    "name": "ipython",
    "version": 3
   },
   "file_extension": ".py",
   "mimetype": "text/x-python",
   "name": "python",
   "nbconvert_exporter": "python",
   "pygments_lexer": "ipython3",
   "version": "3.11.5"
  }
 },
 "nbformat": 4,
 "nbformat_minor": 5
}
