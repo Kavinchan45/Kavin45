{
 "cells": [
  {
   "cell_type": "code",
   "execution_count": 3,
   "id": "e09b8f8d",
   "metadata": {},
   "outputs": [
    {
     "name": "stdout",
     "output_type": "stream",
     "text": [
      "Three dimensional array:\n",
      " [[[ 2  4  6  8]\n",
      "  [10 12 14 16]\n",
      "  [18 20 22 24]]]\n",
      "Array with all zeros:\n",
      " [[0. 0. 0. 0.]\n",
      " [0. 0. 0. 0.]\n",
      " [0. 0. 0. 0.]]\n",
      "Sliced array with step 2: [ 5  7  9 11 13 15 17 19 21 23 25 27 29]\n",
      "\n",
      "Shape of the array: (13,)\n",
      "\n",
      "Dimension of the array: 1\n",
      "\n",
      "Array element type: int64\n",
      "\n",
      "FLattened array: [ 5  7  9 11 13 15 17 19 21 23 25 27 29]\n"
     ]
    }
   ],
   "source": [
    "import numpy as np\n",
    "c=np.array([[[2,4,6,8],[10,12,14,16],[18,20,22,24]]])\n",
    "print(\"Three dimensional array:\\n\",c)\n",
    "d=np.zeros((3,4))\n",
    "print(\"Array with all zeros:\\n\",d)\n",
    "e=np.array([5,6,7,8,9,10,11,12,13,14,15,16,17,18,19,20,21,22,23,24,25,26,27,28,29,30])\n",
    "slice1=e[::2]\n",
    "print(\"Sliced array with step 2:\",slice1)\n",
    "print(\"\\nShape of the array:\",slice1.shape)\n",
    "print(\"\\nDimension of the array:\",slice1.ndim)\n",
    "print(\"\\nArray element type:\",slice1.dtype)\n",
    "FA=slice1.flatten()\n",
    "print(\"\\nFLattened array:\",FA)"
   ]
  }
 ],
 "metadata": {
  "kernelspec": {
   "display_name": "Python 3 (ipykernel)",
   "language": "python",
   "name": "python3"
  },
  "language_info": {
   "codemirror_mode": {
    "name": "ipython",
    "version": 3
   },
   "file_extension": ".py",
   "mimetype": "text/x-python",
   "name": "python",
   "nbconvert_exporter": "python",
   "pygments_lexer": "ipython3",
   "version": "3.11.5"
  }
 },
 "nbformat": 4,
 "nbformat_minor": 5
}
