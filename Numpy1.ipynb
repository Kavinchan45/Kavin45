{
 "cells": [
  {
   "cell_type": "code",
   "execution_count": 1,
   "id": "b9bc28db",
   "metadata": {},
   "outputs": [
    {
     "name": "stdout",
     "output_type": "stream",
     "text": [
      "One dimensional array: [1 2 3 4]\n"
     ]
    }
   ],
   "source": [
    "import numpy as np\n",
    "a=np.array([1,2,3,4])\n",
    "print(\"One dimensional array:\",a)\n"
   ]
  },
  {
   "cell_type": "code",
   "execution_count": 6,
   "id": "7b8f0022",
   "metadata": {},
   "outputs": [
    {
     "name": "stdout",
     "output_type": "stream",
     "text": [
      "Two dimensional array:\n",
      " [[1 2 3 4]\n",
      " [5 6 7 8]]\n"
     ]
    }
   ],
   "source": [
    "import numpy as np\n",
    "b=np.array([[1,2,3,4],[5,6,7,8]])\n",
    "print(\"Two dimensional array:\\n\",b)\n"
   ]
  },
  {
   "cell_type": "code",
   "execution_count": 5,
   "id": "773c2c9f",
   "metadata": {},
   "outputs": [
    {
     "name": "stdout",
     "output_type": "stream",
     "text": [
      "Three dimensional array:\n",
      " [[[ 1  2  3  4]\n",
      "  [ 5  6  7  8]\n",
      "  [ 9 10 11 12]]]\n"
     ]
    }
   ],
   "source": [
    "import numpy as np\n",
    "c=np.array([[[1,2,3,4],[5,6,7,8],[9,10,11,12]]])\n",
    "print(\"Three dimensional array:\\n\",c)\n"
   ]
  },
  {
   "cell_type": "code",
   "execution_count": 7,
   "id": "15d51aed",
   "metadata": {},
   "outputs": [
    {
     "name": "stdout",
     "output_type": "stream",
     "text": [
      "Array with all zeros:\n",
      " [[0. 0. 0. 0.]\n",
      " [0. 0. 0. 0.]\n",
      " [0. 0. 0. 0.]\n",
      " [0. 0. 0. 0.]]\n"
     ]
    }
   ],
   "source": [
    "import numpy as np\n",
    "d=np.zeros((4,4))\n",
    "print(\"Array with all zeros:\\n\",d)"
   ]
  },
  {
   "cell_type": "code",
   "execution_count": 9,
   "id": "af408248",
   "metadata": {},
   "outputs": [
    {
     "name": "stdout",
     "output_type": "stream",
     "text": [
      "\n",
      " Random value:\n",
      " [[0.55245709 0.54046061 0.8550559 ]\n",
      " [0.40085892 0.49100352 0.35348427]]\n"
     ]
    }
   ],
   "source": [
    "import numpy as np\n",
    "e=np.random.random((2,3))\n",
    "print(\"\\n Random value:\\n\",e)"
   ]
  },
  {
   "cell_type": "code",
   "execution_count": 12,
   "id": "6e40e420",
   "metadata": {},
   "outputs": [
    {
     "name": "stdout",
     "output_type": "stream",
     "text": [
      "\n",
      " Sequence array:\n",
      " [  0  40  80 120 160]\n"
     ]
    }
   ],
   "source": [
    "import numpy as np\n",
    "f=np.arange(0,200,40)\n",
    "print(\"\\n Sequence array:\\n\",f)"
   ]
  },
  {
   "cell_type": "code",
   "execution_count": 14,
   "id": "a86b650f",
   "metadata": {},
   "outputs": [
    {
     "name": "stdout",
     "output_type": "stream",
     "text": [
      "\n",
      " Original array:\n",
      " [[[11 12 13 14]\n",
      "  [15 16 17 18]\n",
      "  [19 20 21 22]]]\n",
      "\n",
      " Reshaped array:\n",
      " [[11 12 13]\n",
      " [14 15 16]\n",
      " [17 18 19]\n",
      " [20 21 22]]\n"
     ]
    }
   ],
   "source": [
    "import numpy as np\n",
    "g=np.array([[[11,12,13,14],[15,16,17,18],[19,20,21,22]]])\n",
    "newarr=g.reshape(4,3)\n",
    "print(\"\\n Original array:\\n\",g)\n",
    "print(\"\\n Reshaped array:\\n\",newarr)"
   ]
  },
  {
   "cell_type": "code",
   "execution_count": 16,
   "id": "1ba41e02",
   "metadata": {},
   "outputs": [
    {
     "name": "stdout",
     "output_type": "stream",
     "text": [
      "\n",
      " Original array:\n",
      " [[[11 12 13 14]\n",
      "  [15 16 17 18]\n",
      "  [19 20 21 22]]]\n",
      "\n",
      " Flattened array:\n",
      " [11 12 13 14 15 16 17 18 19 20 21 22]\n"
     ]
    }
   ],
   "source": [
    "import numpy as np\n",
    "h=np.array([[[11,12,13,14],[15,16,17,18],[19,20,21,22]]])\n",
    "newarr=h.flatten()\n",
    "print(\"\\n Original array:\\n\",h)\n",
    "print(\"\\n Flattened array:\\n\",newarr)"
   ]
  },
  {
   "cell_type": "code",
   "execution_count": 7,
   "id": "b31b055f",
   "metadata": {},
   "outputs": [
    {
     "name": "stdout",
     "output_type": "stream",
     "text": [
      "Three dimensional array:\n",
      " [[11 12 13 14]\n",
      " [15 16 17 18]\n",
      " [19 20 21 22]]\n",
      "\n",
      " No. of dimensions: 2\n"
     ]
    }
   ],
   "source": [
    "import numpy as np\n",
    "i=np.array([[11,12,13,14],[15,16,17,18],[19,20,21,22]])\n",
    "print(\"Three dimensional array:\\n\",i)\n",
    "print(\"\\n No. of dimensions:\",i.ndim)"
   ]
  },
  {
   "cell_type": "code",
   "execution_count": 8,
   "id": "0de48b7a",
   "metadata": {},
   "outputs": [
    {
     "name": "stdout",
     "output_type": "stream",
     "text": [
      "Three dimensional array:\n",
      " [[[11 12 13 14]\n",
      "  [15 16 17 18]\n",
      "  [19 20 21 22]]\n",
      "\n",
      " [[ 1  2  3  4]\n",
      "  [ 5  6  7  8]\n",
      "  [ 9 10 11 12]]]\n",
      "\n",
      " No. of dimensions: 3\n"
     ]
    }
   ],
   "source": [
    "import numpy as np\n",
    "j=np.array([[[11,12,13,14],[15,16,17,18],[19,20,21,22]],[[1,2,3,4],[5,6,7,8],[9,10,11,12]]])\n",
    "print(\"Three dimensional array:\\n\",j)\n",
    "print(\"\\n No. of dimensions:\",j.ndim)"
   ]
  },
  {
   "cell_type": "code",
   "execution_count": 11,
   "id": "50528d01",
   "metadata": {},
   "outputs": [
    {
     "name": "stdout",
     "output_type": "stream",
     "text": [
      "Three dimensional array:\n",
      " [[11 12 13 14]\n",
      " [15 16 17 18]\n",
      " [19 20 21 22]]\n",
      "\n",
      " Shape of the array: (3, 4)\n"
     ]
    }
   ],
   "source": [
    "import numpy as np\n",
    "k=np.array([[11,12,13,14],[15,16,17,18],[19,20,21,22]])\n",
    "print(\"Three dimensional array:\\n\",k)\n",
    "print(\"\\n Shape of the array:\",k.shape)"
   ]
  },
  {
   "cell_type": "code",
   "execution_count": 14,
   "id": "29062d6a",
   "metadata": {
    "scrolled": true
   },
   "outputs": [
    {
     "name": "stdout",
     "output_type": "stream",
     "text": [
      "Three dimensional array:\n",
      " [[11 12 13 14]\n",
      " [15 16 17 18]\n",
      " [19 20 21 22]]\n",
      "\n",
      " Array element type:\n",
      " int64\n"
     ]
    }
   ],
   "source": [
    "import numpy as np\n",
    "l=np.array([[11,12,13,14],[15,16,17,18],[19,20,21,22]])\n",
    "print(\"Three dimensional array:\\n\",l)\n",
    "print(\"\\n Array element type:\\n\",l.dtype)"
   ]
  },
  {
   "cell_type": "code",
   "execution_count": 17,
   "id": "cb6a473c",
   "metadata": {},
   "outputs": [
    {
     "name": "stdout",
     "output_type": "stream",
     "text": [
      "Three dimensional array:\n",
      " [[11 12 13 14]\n",
      " [15 16 17 18]\n",
      " [19 20 21 22]]\n",
      "\n",
      " Size of array: 4\n"
     ]
    }
   ],
   "source": [
    "import numpy as np\n",
    "m=np.array([[11,12,13,14],[15,16,17,18],[19,20,21,22]])\n",
    "size=len(m[1])\n",
    "print(\"Three dimensional array:\\n\",l)\n",
    "print(\"\\n Size of array:\",size)"
   ]
  },
  {
   "cell_type": "code",
   "execution_count": 6,
   "id": "75cdab8b",
   "metadata": {},
   "outputs": [
    {
     "name": "stdout",
     "output_type": "stream",
     "text": [
      "Original array: [1 2 3]\n",
      "New array: [1. 2. 3.]\n",
      "float64\n"
     ]
    }
   ],
   "source": [
    "import numpy as np\n",
    "n=[1,2,3]\n",
    "n=np.array(n)\n",
    "newtype = n.astype('float64')\n",
    "print(\"Original array:\",n)\n",
    "print(\"New array:\",newtype)\n",
    "print(newtype.dtype)"
   ]
  },
  {
   "cell_type": "code",
   "execution_count": null,
   "id": "9a16c4ec",
   "metadata": {},
   "outputs": [],
   "source": []
  }
 ],
 "metadata": {
  "kernelspec": {
   "display_name": "Python 3 (ipykernel)",
   "language": "python",
   "name": "python3"
  },
  "language_info": {
   "codemirror_mode": {
    "name": "ipython",
    "version": 3
   },
   "file_extension": ".py",
   "mimetype": "text/x-python",
   "name": "python",
   "nbconvert_exporter": "python",
   "pygments_lexer": "ipython3",
   "version": "3.11.5"
  }
 },
 "nbformat": 4,
 "nbformat_minor": 5
}
