{
 "cells": [
  {
   "cell_type": "code",
   "execution_count": 3,
   "id": "cc5e88cc",
   "metadata": {},
   "outputs": [
    {
     "name": "stdout",
     "output_type": "stream",
     "text": [
      "Original data:\n",
      "\n",
      "    S.No  Roll    Name   Eng  Tamil  Maths  Science  Social  Total\n",
      "0      1  1101    Arya  67.0   82.0   54.0     71.0    62.0    336\n",
      "1      2  1102    Kavi  59.0   45.0   89.0      NaN    76.0    269\n",
      "2      3  1103    Ravi  90.0   78.0   61.0     80.0    85.0    394\n",
      "3      4  1104     Anu  72.0   55.0    NaN     66.0    74.0    267\n",
      "4      5  1105    Siva  81.0   64.0   77.0     68.0    58.0    348\n",
      "5      6  1106    Maya  93.0   53.0   65.0     72.0    80.0    363\n",
      "6      7  1107    Riya  48.0   71.0   88.0      NaN    66.0    273\n",
      "7      8  1108    Arun  79.0   69.0   60.0     82.0    71.0    361\n",
      "8      9  1109    Nivi   NaN   90.0   74.0     67.0    59.0    290\n",
      "9     10  1110    Vini  55.0   80.0   50.0     78.0    85.0    348\n",
      "10    11  1111   Kiran  74.0   66.0   85.0     64.0     NaN    289\n",
      "11    12  1112    Neha  88.0   52.0    NaN     70.0    90.0    300\n",
      "12    13  1113   Vijay  68.0   61.0   56.0     84.0    75.0    344\n",
      "13    14  1114  Preeti   NaN   67.0   58.0     61.0    73.0    259\n",
      "14    15  1115    Aadi  91.0   59.0   66.0     77.0    78.0    371\n",
      "15    16  1116    Lila  60.0   74.0   82.0     69.0    62.0    347\n",
      "16    17  1117    Ramu  83.0    NaN   71.0     55.0    81.0    290\n",
      "17    18  1118    Tina  78.0   55.0   64.0     74.0    65.0    336\n",
      "18    19  1119     Sam  69.0   81.0   72.0     60.0    79.0    361\n",
      "19    20  1120   Priya  53.0   76.0   63.0      NaN    67.0    259\n",
      "20    21  1121     Raj  91.0   82.0   66.0     77.0    85.0    401\n",
      "21    22  1122   Pooja  65.0   59.0   75.0     68.0     NaN    267\n",
      "22    23  1123  Nikhil  70.0   63.0   55.0     81.0    66.0    335\n",
      "23    24  1124   Meera  82.0   85.0   90.0     56.0    73.0    386\n",
      "24    25  1125    Jaya  79.0    NaN   66.0     73.0    71.0    289\n"
     ]
    }
   ],
   "source": [
    "import pandas as pd\n",
    "pd.set_option('display.max_columns',10)\n",
    "print(\"Original data:\\n\")\n",
    "df=pd.read_excel(\"/Users/student/Downloads/Data cleaning and preparation(excel).xlsx\")\n",
    "print(df)"
   ]
  },
  {
   "cell_type": "code",
   "execution_count": 4,
   "id": "2dd66440",
   "metadata": {},
   "outputs": [
    {
     "name": "stdout",
     "output_type": "stream",
     "text": [
      "0       Arya\n",
      "1       Kavi\n",
      "2       Ravi\n",
      "3        Anu\n",
      "4       Siva\n",
      "5       Maya\n",
      "6       Riya\n",
      "7       Arun\n",
      "8       Nivi\n",
      "9       Vini\n",
      "10     Kiran\n",
      "11      Neha\n",
      "12     Vijay\n",
      "13    Preeti\n",
      "14      Aadi\n",
      "15      Lila\n",
      "16      Ramu\n",
      "17      Tina\n",
      "18       Sam\n",
      "19     Priya\n",
      "20       Raj\n",
      "21     Pooja\n",
      "22    Nikhil\n",
      "23     Meera\n",
      "24      Jaya\n",
      "Name: Name, dtype: object\n"
     ]
    }
   ],
   "source": [
    "f=df['Name'].str.strip()\n",
    "f.to_excel(\"dcap.xlsx\")\n",
    "print(f)"
   ]
  },
  {
   "cell_type": "code",
   "execution_count": 5,
   "id": "bf4e5e7a",
   "metadata": {},
   "outputs": [
    {
     "name": "stdout",
     "output_type": "stream",
     "text": [
      "Replace value:\n",
      "    S.No  Roll    Name   Eng  Tamil  Maths  Science  Social  Total\n",
      "0      1  1101    Arya  67.0   82.0   54.0     71.0    62.0    336\n",
      "1      2  1102    Kavi  59.0   45.0   89.0     71.0    76.0    269\n",
      "2      3  1103    Ravi  90.0   78.0   61.0     80.0    85.0    394\n",
      "3      4  1104     Anu  72.0   55.0   61.0     66.0    74.0    267\n",
      "4      5  1105    Siva  81.0   64.0   77.0     68.0    58.0    348\n",
      "5      6  1106    Maya  93.0   53.0   65.0     72.0    80.0    363\n",
      "6      7  1107    Riya  48.0   71.0   88.0     72.0    66.0    273\n",
      "7      8  1108    Arun  79.0   69.0   60.0     82.0    71.0    361\n",
      "8      9  1109    Nivi  79.0   90.0   74.0     67.0    59.0    290\n",
      "9     10  1110    Vini  55.0   80.0   50.0     78.0    85.0    348\n",
      "10    11  1111   Kiran  74.0   66.0   85.0     64.0    85.0    289\n",
      "11    12  1112    Neha  88.0   52.0   85.0     70.0    90.0    300\n",
      "12    13  1113   Vijay  68.0   61.0   56.0     84.0    75.0    344\n",
      "13    14  1114  Preeti  68.0   67.0   58.0     61.0    73.0    259\n",
      "14    15  1115    Aadi  91.0   59.0   66.0     77.0    78.0    371\n",
      "15    16  1116    Lila  60.0   74.0   82.0     69.0    62.0    347\n",
      "16    17  1117    Ramu  83.0   74.0   71.0     55.0    81.0    290\n",
      "17    18  1118    Tina  78.0   55.0   64.0     74.0    65.0    336\n",
      "18    19  1119     Sam  69.0   81.0   72.0     60.0    79.0    361\n",
      "19    20  1120   Priya  53.0   76.0   63.0     60.0    67.0    259\n",
      "20    21  1121     Raj  91.0   82.0   66.0     77.0    85.0    401\n",
      "21    22  1122   Pooja  65.0   59.0   75.0     68.0    85.0    267\n",
      "22    23  1123  Nikhil  70.0   63.0   55.0     81.0    66.0    335\n",
      "23    24  1124   Meera  82.0   85.0   90.0     56.0    73.0    386\n",
      "24    25  1125    Jaya  79.0   85.0   66.0     73.0    71.0    289\n",
      "\n",
      " Updated list\n",
      "\n"
     ]
    }
   ],
   "source": [
    "print(\"Replace value:\")\n",
    "k=df.fillna(method='Pad')\n",
    "print(k)\n",
    "print(\"\\n Updated list\\n\")\n",
    "k.to_excel(\"dcap.xlsx\")"
   ]
  },
  {
   "cell_type": "code",
   "execution_count": 6,
   "id": "abc1453a",
   "metadata": {},
   "outputs": [
    {
     "name": "stdout",
     "output_type": "stream",
     "text": [
      "Drop one particular column and its values:\n",
      "    S.No  Roll    Name   Eng  Tamil  Maths  Science  Total\n",
      "0      1  1101    Arya  67.0   82.0   54.0     71.0    336\n",
      "1      2  1102    Kavi  59.0   45.0   89.0     71.0    269\n",
      "2      3  1103    Ravi  90.0   78.0   61.0     80.0    394\n",
      "3      4  1104     Anu  72.0   55.0   61.0     66.0    267\n",
      "4      5  1105    Siva  81.0   64.0   77.0     68.0    348\n",
      "5      6  1106    Maya  93.0   53.0   65.0     72.0    363\n",
      "6      7  1107    Riya  48.0   71.0   88.0     72.0    273\n",
      "7      8  1108    Arun  79.0   69.0   60.0     82.0    361\n",
      "8      9  1109    Nivi  79.0   90.0   74.0     67.0    290\n",
      "9     10  1110    Vini  55.0   80.0   50.0     78.0    348\n",
      "10    11  1111   Kiran  74.0   66.0   85.0     64.0    289\n",
      "11    12  1112    Neha  88.0   52.0   85.0     70.0    300\n",
      "12    13  1113   Vijay  68.0   61.0   56.0     84.0    344\n",
      "13    14  1114  Preeti  68.0   67.0   58.0     61.0    259\n",
      "14    15  1115    Aadi  91.0   59.0   66.0     77.0    371\n",
      "15    16  1116    Lila  60.0   74.0   82.0     69.0    347\n",
      "16    17  1117    Ramu  83.0   74.0   71.0     55.0    290\n",
      "17    18  1118    Tina  78.0   55.0   64.0     74.0    336\n",
      "18    19  1119     Sam  69.0   81.0   72.0     60.0    361\n",
      "19    20  1120   Priya  53.0   76.0   63.0     60.0    259\n",
      "20    21  1121     Raj  91.0   82.0   66.0     77.0    401\n",
      "21    22  1122   Pooja  65.0   59.0   75.0     68.0    267\n",
      "22    23  1123  Nikhil  70.0   63.0   55.0     81.0    335\n",
      "23    24  1124   Meera  82.0   85.0   90.0     56.0    386\n",
      "24    25  1125    Jaya  79.0   85.0   66.0     73.0    289\n",
      "\n",
      " Updated list:\n"
     ]
    }
   ],
   "source": [
    "print(\"Drop one particular column and its values:\")\n",
    "k.drop(['Social'],axis=1,inplace=True)\n",
    "print(k)\n",
    "print(\"\\n Updated list:\")\n",
    "k.to_excel(\"Data cleaning and preparation(excel).xlsx\")"
   ]
  },
  {
   "cell_type": "code",
   "execution_count": 7,
   "id": "25c86b4d",
   "metadata": {},
   "outputs": [
    {
     "name": "stdout",
     "output_type": "stream",
     "text": [
      "Drop NaNrows:\n",
      "    S.No  Roll    Name   Eng  Tamil  Maths  Science  Social  Total\n",
      "0      1  1101    Arya  67.0   82.0   54.0     71.0    62.0    336\n",
      "1      2  1102    Kavi  59.0   45.0   89.0      NaN    76.0    269\n",
      "2      3  1103    Ravi  90.0   78.0   61.0     80.0    85.0    394\n",
      "3      4  1104     Anu  72.0   55.0    NaN     66.0    74.0    267\n",
      "4      5  1105    Siva  81.0   64.0   77.0     68.0    58.0    348\n",
      "5      6  1106    Maya  93.0   53.0   65.0     72.0    80.0    363\n",
      "6      7  1107    Riya  48.0   71.0   88.0      NaN    66.0    273\n",
      "7      8  1108    Arun  79.0   69.0   60.0     82.0    71.0    361\n",
      "8      9  1109    Nivi   NaN   90.0   74.0     67.0    59.0    290\n",
      "9     10  1110    Vini  55.0   80.0   50.0     78.0    85.0    348\n",
      "10    11  1111   Kiran  74.0   66.0   85.0     64.0     NaN    289\n",
      "11    12  1112    Neha  88.0   52.0    NaN     70.0    90.0    300\n",
      "12    13  1113   Vijay  68.0   61.0   56.0     84.0    75.0    344\n",
      "13    14  1114  Preeti   NaN   67.0   58.0     61.0    73.0    259\n",
      "14    15  1115    Aadi  91.0   59.0   66.0     77.0    78.0    371\n",
      "15    16  1116    Lila  60.0   74.0   82.0     69.0    62.0    347\n",
      "16    17  1117    Ramu  83.0    NaN   71.0     55.0    81.0    290\n",
      "17    18  1118    Tina  78.0   55.0   64.0     74.0    65.0    336\n",
      "18    19  1119     Sam  69.0   81.0   72.0     60.0    79.0    361\n",
      "19    20  1120   Priya  53.0   76.0   63.0      NaN    67.0    259\n",
      "20    21  1121     Raj  91.0   82.0   66.0     77.0    85.0    401\n",
      "21    22  1122   Pooja  65.0   59.0   75.0     68.0     NaN    267\n",
      "22    23  1123  Nikhil  70.0   63.0   55.0     81.0    66.0    335\n",
      "23    24  1124   Meera  82.0   85.0   90.0     56.0    73.0    386\n",
      "24    25  1125    Jaya  79.0    NaN   66.0     73.0    71.0    289\n",
      "    S.No  Roll    Name   Eng  Tamil  Maths  Science  Social  Total\n",
      "0      1  1101    Arya  67.0   82.0   54.0     71.0    62.0    336\n",
      "2      3  1103    Ravi  90.0   78.0   61.0     80.0    85.0    394\n",
      "4      5  1105    Siva  81.0   64.0   77.0     68.0    58.0    348\n",
      "5      6  1106    Maya  93.0   53.0   65.0     72.0    80.0    363\n",
      "7      8  1108    Arun  79.0   69.0   60.0     82.0    71.0    361\n",
      "9     10  1110    Vini  55.0   80.0   50.0     78.0    85.0    348\n",
      "12    13  1113   Vijay  68.0   61.0   56.0     84.0    75.0    344\n",
      "14    15  1115    Aadi  91.0   59.0   66.0     77.0    78.0    371\n",
      "15    16  1116    Lila  60.0   74.0   82.0     69.0    62.0    347\n",
      "17    18  1118    Tina  78.0   55.0   64.0     74.0    65.0    336\n",
      "18    19  1119     Sam  69.0   81.0   72.0     60.0    79.0    361\n",
      "20    21  1121     Raj  91.0   82.0   66.0     77.0    85.0    401\n",
      "22    23  1123  Nikhil  70.0   63.0   55.0     81.0    66.0    335\n",
      "23    24  1124   Meera  82.0   85.0   90.0     56.0    73.0    386\n",
      "\n",
      "Updated list:\n"
     ]
    }
   ],
   "source": [
    "print(\"Drop NaNrows:\")\n",
    "df=pd.read_excel(\"/Users/student/Downloads/Data cleaning and preparation(excel).xlsx\")\n",
    "print(df)\n",
    "x=df.dropna()\n",
    "print(x)\n",
    "print(\"\\nUpdated list:\")\n",
    "x.to_excel(\"Data cleaning and preparation(excel).xlsx\")"
   ]
  }
 ],
 "metadata": {
  "kernelspec": {
   "display_name": "Python 3 (ipykernel)",
   "language": "python",
   "name": "python3"
  },
  "language_info": {
   "codemirror_mode": {
    "name": "ipython",
    "version": 3
   },
   "file_extension": ".py",
   "mimetype": "text/x-python",
   "name": "python",
   "nbconvert_exporter": "python",
   "pygments_lexer": "ipython3",
   "version": "3.11.5"
  }
 },
 "nbformat": 4,
 "nbformat_minor": 5
}
