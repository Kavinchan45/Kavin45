{
 "cells": [
  {
   "cell_type": "code",
   "execution_count": 4,
   "id": "66d1477d",
   "metadata": {},
   "outputs": [],
   "source": [
    "f=open(\"/Users/student/Downloads/sample3.txt\",\"w\")\n",
    "f.write(\"Wakeup early\\n\")\n",
    "f.write(\"Read daily\\n\")\n",
    "f.write(\"Be punctual\\n\")\n",
    "f.close()"
   ]
  },
  {
   "cell_type": "code",
   "execution_count": 5,
   "id": "5bb09c79",
   "metadata": {},
   "outputs": [
    {
     "name": "stdout",
     "output_type": "stream",
     "text": [
      "Wakeup early\n",
      "\n",
      "Read daily\n",
      "\n",
      "Be punctual\n",
      "\n"
     ]
    }
   ],
   "source": [
    "a=open(\"/Users/student/Downloads/sample3.txt\",\"r\")\n",
    "print(a.readline())\n",
    "print(a.readline())\n",
    "print(a.readline())\n",
    "a.close()"
   ]
  },
  {
   "cell_type": "code",
   "execution_count": 7,
   "id": "4cd5b58c",
   "metadata": {},
   "outputs": [],
   "source": [
    "b=open(\"/Users/student/Downloads/sample3.txt\",\"a\")\n",
    "b.write(\"Leo\\n\")\n",
    "b.write(\"Robert\\n\")\n",
    "b.close()"
   ]
  },
  {
   "cell_type": "code",
   "execution_count": 8,
   "id": "a39c910f",
   "metadata": {},
   "outputs": [
    {
     "name": "stdout",
     "output_type": "stream",
     "text": [
      "Wakeup early\n",
      "Read daily\n",
      "Be punctual\n",
      "Leo\n",
      "Robert\n",
      "\n"
     ]
    }
   ],
   "source": [
    "c=open(\"/Users/student/Downloads/sample3.txt\",\"r\")\n",
    "print(c.read())\n",
    "c.close()"
   ]
  },
  {
   "cell_type": "code",
   "execution_count": 10,
   "id": "54b011b9",
   "metadata": {},
   "outputs": [
    {
     "name": "stdout",
     "output_type": "stream",
     "text": [
      "['Wakeup early\\n', 'Read daily\\n', 'Be punctual\\n', 'Leo\\n', 'Robert\\n']\n"
     ]
    }
   ],
   "source": [
    "with open(\"/Users/student/Downloads/sample3.txt\",\"r\")as file:\n",
    "    lines=file.readlines()\n",
    "    print(lines)"
   ]
  },
  {
   "cell_type": "code",
   "execution_count": 3,
   "id": "5d841402",
   "metadata": {},
   "outputs": [
    {
     "name": "stdout",
     "output_type": "stream",
     "text": [
      "Delhi\n",
      "\"{\\\"Name\\\":\\\"Sundar\\\",\\\"Age\\\":\\\"25\\\",\\\"City\\\":\\\"Delhi\\\"}\"\n"
     ]
    }
   ],
   "source": [
    "import json\n",
    "x='{\"Name\":\"Sundar\",\"Age\":\"25\",\"City\":\"Delhi\"}'\n",
    "y=json.loads(x)\n",
    "print(y[\"City\"])\n",
    "y=json.dumps(x)\n",
    "print(y)"
   ]
  }
 ],
 "metadata": {
  "kernelspec": {
   "display_name": "Python 3 (ipykernel)",
   "language": "python",
   "name": "python3"
  },
  "language_info": {
   "codemirror_mode": {
    "name": "ipython",
    "version": 3
   },
   "file_extension": ".py",
   "mimetype": "text/x-python",
   "name": "python",
   "nbconvert_exporter": "python",
   "pygments_lexer": "ipython3",
   "version": "3.11.5"
  }
 },
 "nbformat": 4,
 "nbformat_minor": 5
}
