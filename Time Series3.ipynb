{
 "cells": [
  {
   "cell_type": "code",
   "execution_count": 3,
   "id": "c49e142e",
   "metadata": {},
   "outputs": [
    {
     "name": "stdout",
     "output_type": "stream",
     "text": [
      "Date Index  2011-01-02   -0.673099\n",
      "2011-01-05    0.296730\n",
      "2011-01-07   -1.259734\n",
      "2011-01-08   -1.318797\n",
      "2011-01-10   -0.387473\n",
      "2011-01-12    0.228295\n",
      "dtype: float64\n"
     ]
    }
   ],
   "source": [
    "import pandas as pd\n",
    "import numpy as np\n",
    "from datetime import datetime\n",
    "dates = [datetime(2011, 1, 2),\n",
    "datetime(2011, 1, 5),\n",
    "datetime(2011, 1, 7),\n",
    "datetime(2011, 1, 8),\n",
    "datetime(2011, 1, 10),\n",
    "datetime(2011, 1, 12)]\n",
    "ts = pd.Series(np.random.randn(6), index=dates)\n",
    "print(\"Date Index \",ts)"
   ]
  },
  {
   "cell_type": "code",
   "execution_count": 4,
   "id": "de76763c",
   "metadata": {},
   "outputs": [
    {
     "name": "stdout",
     "output_type": "stream",
     "text": [
      "Date Index alone from the series:  DatetimeIndex(['2011-01-02', '2011-01-05', '2011-01-07', '2011-01-08',\n",
      "               '2011-01-10', '2011-01-12'],\n",
      "              dtype='datetime64[ns]', freq=None)\n"
     ]
    }
   ],
   "source": [
    "print(\"Date Index alone from the series: \",ts.index)"
   ]
  },
  {
   "cell_type": "code",
   "execution_count": 5,
   "id": "547679af",
   "metadata": {},
   "outputs": [
    {
     "name": "stdout",
     "output_type": "stream",
     "text": [
      "Second index: 2011-01-07 00:00:00\n"
     ]
    }
   ],
   "source": [
    "stamp=ts.index[2]\n",
    "print(\"Second index:\", stamp)"
   ]
  },
  {
   "cell_type": "code",
   "execution_count": 6,
   "id": "22289c47",
   "metadata": {},
   "outputs": [
    {
     "name": "stdout",
     "output_type": "stream",
     "text": [
      "Daterange up to 1000 days: 2000-01-01    0.354518\n",
      "2000-01-02    1.683318\n",
      "2000-01-03    0.304250\n",
      "2000-01-04   -1.841245\n",
      "2000-01-05   -0.233532\n",
      "                ...   \n",
      "2002-09-22    0.154435\n",
      "2002-09-23   -1.457716\n",
      "2002-09-24   -0.320503\n",
      "2002-09-25   -0.571007\n",
      "2002-09-26    0.243523\n",
      "Freq: D, Length: 1000, dtype: float64\n"
     ]
    }
   ],
   "source": [
    "longer_ts=pd.Series(np.random.randn(1000),\n",
    "index=pd.date_range(\"2000-01-01\",periods=1000))\n",
    "print(\"Daterange up to 1000 days:\",longer_ts)"
   ]
  },
  {
   "cell_type": "code",
   "execution_count": 7,
   "id": "b798ea31",
   "metadata": {},
   "outputs": [
    {
     "name": "stdout",
     "output_type": "stream",
     "text": [
      "Date range-2001 year: 2001-01-01   -0.810513\n",
      "2001-01-02   -0.972780\n",
      "2001-01-03    0.717666\n",
      "2001-01-04    0.152269\n",
      "2001-01-05   -1.159277\n",
      "                ...   \n",
      "2001-12-27    1.471499\n",
      "2001-12-28    0.305649\n",
      "2001-12-29    1.357885\n",
      "2001-12-30   -0.178635\n",
      "2001-12-31   -1.133751\n",
      "Freq: D, Length: 365, dtype: float64\n"
     ]
    }
   ],
   "source": [
    "print(\"Date range-2001 year:\", longer_ts[\"2001\"])"
   ]
  },
  {
   "cell_type": "code",
   "execution_count": 8,
   "id": "fb4434ae",
   "metadata": {},
   "outputs": [
    {
     "name": "stdout",
     "output_type": "stream",
     "text": [
      "Date range-05 month 2001 year: 2001-05-01   -1.435715\n",
      "2001-05-02   -0.155184\n",
      "2001-05-03    0.897203\n",
      "2001-05-04   -0.747103\n",
      "2001-05-05    1.760310\n",
      "2001-05-06   -1.827622\n",
      "2001-05-07    0.657439\n",
      "2001-05-08   -1.712368\n",
      "2001-05-09   -0.211889\n",
      "2001-05-10   -0.490430\n",
      "2001-05-11   -0.927273\n",
      "2001-05-12   -1.144967\n",
      "2001-05-13    1.217659\n",
      "2001-05-14    1.049053\n",
      "2001-05-15    1.518733\n",
      "2001-05-16    0.622395\n",
      "2001-05-17    1.035987\n",
      "2001-05-18    0.833834\n",
      "2001-05-19    0.210398\n",
      "2001-05-20   -0.072088\n",
      "2001-05-21   -0.357868\n",
      "2001-05-22   -1.424858\n",
      "2001-05-23   -0.608839\n",
      "2001-05-24   -0.336409\n",
      "2001-05-25   -0.070819\n",
      "2001-05-26    0.231023\n",
      "2001-05-27    0.449381\n",
      "2001-05-28    1.229231\n",
      "2001-05-29    1.787640\n",
      "2001-05-30   -1.180434\n",
      "2001-05-31   -0.939028\n",
      "Freq: D, dtype: float64\n"
     ]
    }
   ],
   "source": [
    "print(\"Date range-05 month 2001 year:\", longer_ts[\"2001-05\"])"
   ]
  },
  {
   "cell_type": "code",
   "execution_count": 9,
   "id": "3e78be73",
   "metadata": {},
   "outputs": [
    {
     "name": "stdout",
     "output_type": "stream",
     "text": [
      "Date range-first few dates in 2000 year: 2000-01-01    0.354518\n",
      "2000-01-02    1.683318\n",
      "2000-01-03    0.304250\n",
      "2000-01-04   -1.841245\n",
      "2000-01-05   -0.233532\n",
      "Freq: D, dtype: float64\n"
     ]
    }
   ],
   "source": [
    "print(\"Date range-first few dates in 2000 year:\",longer_ts[\"2000\"].head())"
   ]
  },
  {
   "cell_type": "code",
   "execution_count": 10,
   "id": "f5fb3a7a",
   "metadata": {},
   "outputs": [
    {
     "name": "stdout",
     "output_type": "stream",
     "text": [
      "Date range-first 15 dates in 02 month 2001 year: 2000-02-01    1.054225\n",
      "2000-02-02   -0.448796\n",
      "2000-02-03   -0.041331\n",
      "2000-02-04    0.131227\n",
      "2000-02-05    0.820193\n",
      "2000-02-06    0.594811\n",
      "2000-02-07   -0.797757\n",
      "2000-02-08    0.499844\n",
      "2000-02-09   -0.698919\n",
      "2000-02-10   -0.772905\n",
      "2000-02-11    0.349775\n",
      "2000-02-12    0.012320\n",
      "2000-02-13   -0.809411\n",
      "2000-02-14    0.520844\n",
      "2000-02-15   -0.852593\n",
      "Freq: D, dtype: float64\n"
     ]
    }
   ],
   "source": [
    "print(\"Date range-first 15 dates in 02 month 2001 year:\",longer_ts[\"2000-02\"].head(15))"
   ]
  },
  {
   "cell_type": "code",
   "execution_count": 11,
   "id": "fae4bbae",
   "metadata": {},
   "outputs": [
    {
     "name": "stdout",
     "output_type": "stream",
     "text": [
      "Date range-rom 26-9-2001: 2000-09-26    0.359383\n",
      "2000-09-27    1.720108\n",
      "2000-09-28   -1.036272\n",
      "2000-09-29   -0.600160\n",
      "2000-09-30    2.165260\n",
      "                ...   \n",
      "2002-09-22    0.154435\n",
      "2002-09-23   -1.457716\n",
      "2002-09-24   -0.320503\n",
      "2002-09-25   -0.571007\n",
      "2002-09-26    0.243523\n",
      "Freq: D, Length: 731, dtype: float64\n"
     ]
    }
   ],
   "source": [
    "print(\"Date range-rom 26-9-2001:\",longer_ts[datetime(2000,9,26):])"
   ]
  },
  {
   "cell_type": "code",
   "execution_count": 13,
   "id": "7ce717e5",
   "metadata": {},
   "outputs": [
    {
     "name": "stdout",
     "output_type": "stream",
     "text": [
      "Date range from 26-9-2001 to 25-9-2002: 2001-09-26   -0.911904\n",
      "2001-09-27   -1.427422\n",
      "2001-09-28   -0.943623\n",
      "2001-09-29    1.229645\n",
      "2001-09-30    0.746024\n",
      "                ...   \n",
      "2002-09-21    0.109481\n",
      "2002-09-22    0.154435\n",
      "2002-09-23   -1.457716\n",
      "2002-09-24   -0.320503\n",
      "2002-09-25   -0.571007\n",
      "Freq: D, Length: 365, dtype: float64\n"
     ]
    }
   ],
   "source": [
    "print(\"Date range from 26-9-2001 to 25-9-2002:\",longer_ts[datetime(2001,9,26):datetime(2002,9,25)])"
   ]
  }
 ],
 "metadata": {
  "kernelspec": {
   "display_name": "Python 3 (ipykernel)",
   "language": "python",
   "name": "python3"
  },
  "language_info": {
   "codemirror_mode": {
    "name": "ipython",
    "version": 3
   },
   "file_extension": ".py",
   "mimetype": "text/x-python",
   "name": "python",
   "nbconvert_exporter": "python",
   "pygments_lexer": "ipython3",
   "version": "3.11.5"
  }
 },
 "nbformat": 4,
 "nbformat_minor": 5
}
