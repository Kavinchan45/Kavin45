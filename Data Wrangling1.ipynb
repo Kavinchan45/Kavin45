{
 "cells": [
  {
   "cell_type": "code",
   "execution_count": 3,
   "id": "ec0b1218",
   "metadata": {},
   "outputs": [
    {
     "name": "stdout",
     "output_type": "stream",
     "text": [
      "  name  age\n",
      "0  Sai   20\n",
      "1  Sub   21\n",
      "2  Poo   22\n",
      "   qualified\n",
      "0       True\n",
      "1       True\n",
      "2      False\n"
     ]
    }
   ],
   "source": [
    "import pandas as pd\n",
    "d1={\"name\":[\"Sai\",\"Sub\",'Poo'],\"age\":[20,21,22]}\n",
    "d2={\"qualified\":[True,True,False]}\n",
    "df1=pd.DataFrame(d1)\n",
    "print(df1)\n",
    "df2=pd.DataFrame(d2)\n",
    "print(df2)"
   ]
  },
  {
   "cell_type": "code",
   "execution_count": 4,
   "id": "85ccf1c0",
   "metadata": {},
   "outputs": [
    {
     "name": "stdout",
     "output_type": "stream",
     "text": [
      "    name  age\n",
      "0    Sai   20\n",
      "1  Rishi   21\n",
      "2  Thara   22\n",
      "     name  age\n",
      "0    Yuvi   20\n",
      "1   Rithi   21\n",
      "2  Sanjay   22\n",
      "   name_x  age name_y\n",
      "0    Yuvi   20    Sai\n",
      "1   Rithi   21  Rishi\n",
      "2  Sanjay   22  Thara\n",
      "  name_x  age  name_y\n",
      "0    Sai   20    Yuvi\n",
      "1  Rishi   21   Rithi\n",
      "2  Thara   22  Sanjay\n"
     ]
    }
   ],
   "source": [
    "import pandas as pd\n",
    "d1={\"name\":[\"Sai\",\"Rishi\",'Thara'],\"age\":[20,21,22]}\n",
    "d2={\"name\":[\"Yuvi\",\"Rithi\",\"Sanjay\"],\"age\":[20,21,22]}\n",
    "df1=pd.DataFrame(d1)\n",
    "print(df1)\n",
    "df2=pd.DataFrame(d2)\n",
    "print(df2)\n",
    "newdf1=(df2.merge(df1,on=\"age\"))\n",
    "newdf2=(df1.merge(df2,on=\"age\"))\n",
    "print(newdf1)\n",
    "print(newdf2)"
   ]
  },
  {
   "cell_type": "code",
   "execution_count": 5,
   "id": "05f34f0e",
   "metadata": {},
   "outputs": [
    {
     "name": "stdout",
     "output_type": "stream",
     "text": [
      "  team  points  assists  rebounds\n",
      "0    A      90       12        56\n",
      "1    B      56       34        43\n",
      "2    C      78       23        55\n",
      "3    D      88       44        12\n",
      "Reshaped Dataframe\n",
      "   team  variable  value\n",
      "0     A    points     90\n",
      "1     B    points     56\n",
      "2     C    points     78\n",
      "3     D    points     88\n",
      "4     A   assists     12\n",
      "5     B   assists     34\n",
      "6     C   assists     23\n",
      "7     D   assists     44\n",
      "8     A  rebounds     56\n",
      "9     B  rebounds     43\n",
      "10    C  rebounds     55\n",
      "11    D  rebounds     12\n"
     ]
    }
   ],
   "source": [
    "df=pd.DataFrame({'team':['A','B','C','D'],'points':[90,56,78,88],'assists':[12,34,23,44],'rebounds':[56,43,55,12]})\n",
    "print(df)\n",
    "df=pd.melt(df,id_vars='team',value_vars=['points','assists','rebounds'])\n",
    "print(\"Reshaped Dataframe\")\n",
    "print(df)"
   ]
  }
 ],
 "metadata": {
  "kernelspec": {
   "display_name": "Python 3 (ipykernel)",
   "language": "python",
   "name": "python3"
  },
  "language_info": {
   "codemirror_mode": {
    "name": "ipython",
    "version": 3
   },
   "file_extension": ".py",
   "mimetype": "text/x-python",
   "name": "python",
   "nbconvert_exporter": "python",
   "pygments_lexer": "ipython3",
   "version": "3.11.5"
  }
 },
 "nbformat": 4,
 "nbformat_minor": 5
}
