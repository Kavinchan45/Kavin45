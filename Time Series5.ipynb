{
 "cells": [
  {
   "cell_type": "code",
   "execution_count": 3,
   "id": "2cfb4d5f",
   "metadata": {},
   "outputs": [
    {
     "name": "stdout",
     "output_type": "stream",
     "text": [
      "With this date object, create a series with datetime index: 2020-01-05   -1.764831\n",
      "2020-01-10    0.751997\n",
      "2020-01-15    0.590506\n",
      "2020-01-20    1.257006\n",
      "2020-01-25    0.740158\n",
      "dtype: float64\n"
     ]
    }
   ],
   "source": [
    "import pandas as pd\n",
    "import numpy as np\n",
    "from datetime import datetime\n",
    "dates = [datetime(2020,1,5),\n",
    "datetime(2020,1,10),\n",
    "datetime(2020,1,15),\n",
    "datetime(2020,1,20),\n",
    "datetime(2020,1,25)]\n",
    "ts = pd.Series(np.random.randn(5), index=dates)\n",
    "print(\"With this date object, create a series with datetime index:\",ts)"
   ]
  },
  {
   "cell_type": "code",
   "execution_count": 4,
   "id": "ce0fc931",
   "metadata": {},
   "outputs": [
    {
     "name": "stdout",
     "output_type": "stream",
     "text": [
      "Truncate method to truncate datetime series 2020-01-05   -1.764831\n",
      "2020-01-10    0.751997\n",
      "2020-01-15    0.590506\n",
      "dtype: float64\n"
     ]
    }
   ],
   "source": [
    "res=ts.truncate(after=\"1/15/2020\")\n",
    "print(\"Truncate method to truncate datetime series\", res)"
   ]
  },
  {
   "cell_type": "code",
   "execution_count": 5,
   "id": "af039037",
   "metadata": {},
   "outputs": [
    {
     "name": "stdout",
     "output_type": "stream",
     "text": [
      "Date range with day periods. DatetimeIndex(['2022-10-02', '2022-10-09', '2022-10-16', '2022-10-23',\n",
      "               '2022-10-30', '2022-11-06', '2022-11-13', '2022-11-20',\n",
      "               '2022-11-27', '2022-12-04'],\n",
      "              dtype='datetime64[ns]', freq='W-SUN')\n"
     ]
    }
   ],
   "source": [
    "da=pd.date_range(\"10/1/2022\", periods=10, freq=\"W-SUN\")\n",
    "print(\"Date range with day periods.\",da)"
   ]
  },
  {
   "cell_type": "code",
   "execution_count": 6,
   "id": "33d79bb6",
   "metadata": {},
   "outputs": [
    {
     "name": "stdout",
     "output_type": "stream",
     "text": [
      "Duplicate datetime index: 2020-01-01    0\n",
      "2020-01-02    1\n",
      "2020-01-02    2\n",
      "2020-01-02    3\n",
      "2020-01-03    4\n",
      "dtype: int64\n"
     ]
    }
   ],
   "source": [
    "date=pd.DatetimeIndex([\"1/1/2020\",\"1/2/2020\",\"1/2/2020\",\"1/2/2020\",\"1/3/2020\"])\n",
    "ts1=pd.Series(np.arange(5), index=date)\n",
    "print(\"Duplicate datetime index:\",ts1)"
   ]
  },
  {
   "cell_type": "code",
   "execution_count": 7,
   "id": "04000403",
   "metadata": {},
   "outputs": [
    {
     "name": "stdout",
     "output_type": "stream",
     "text": [
      "Repeated date counts: 2020-01-01    1\n",
      "2020-01-02    3\n",
      "2020-01-03    1\n",
      "dtype: int64\n"
     ]
    }
   ],
   "source": [
    "group=ts1.groupby(level=0)\n",
    "print(\"Repeated date counts:\",group.count())"
   ]
  },
  {
   "cell_type": "code",
   "execution_count": 8,
   "id": "e4a708c0",
   "metadata": {},
   "outputs": [
    {
     "name": "stdout",
     "output_type": "stream",
     "text": [
      "Multi-column DataFrame with datatime index:                    A         B         C         D\n",
      "2022-10-02 -1.837353 -0.240480  2.066441 -0.280349\n",
      "2022-10-09  0.341215  0.565083  0.491224 -0.549206\n",
      "2022-10-16 -0.161801  0.444445  1.300206 -0.265316\n",
      "2022-10-23  1.617222  0.285228 -1.141558 -1.059350\n",
      "2022-10-30 -0.351509 -1.111643 -0.158460 -1.967306\n",
      "2022-11-06 -0.431490  1.040294  0.435066 -0.189428\n",
      "2022-11-13  0.359747  0.400207 -0.719899  1.263029\n",
      "2022-11-20 -1.368922  1.511770  0.524462  0.167026\n",
      "2022-11-27  0.625229 -1.224287  0.796746 -0.399638\n",
      "2022-12-04  1.725570  2.031445 -0.743088  0.894035\n"
     ]
    }
   ],
   "source": [
    "long_df=pd.DataFrame(np.random.randn(10,4),index=da,columns=list(\"ABCD\"))\n",
    "print(\"Multi-column DataFrame with datatime index:\",long_df)"
   ]
  }
 ],
 "metadata": {
  "kernelspec": {
   "display_name": "Python 3 (ipykernel)",
   "language": "python",
   "name": "python3"
  },
  "language_info": {
   "codemirror_mode": {
    "name": "ipython",
    "version": 3
   },
   "file_extension": ".py",
   "mimetype": "text/x-python",
   "name": "python",
   "nbconvert_exporter": "python",
   "pygments_lexer": "ipython3",
   "version": "3.11.5"
  }
 },
 "nbformat": 4,
 "nbformat_minor": 5
}
