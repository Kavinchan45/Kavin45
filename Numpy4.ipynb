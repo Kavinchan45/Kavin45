{
 "cells": [
  {
   "cell_type": "code",
   "execution_count": 8,
   "id": "6a726ad3",
   "metadata": {},
   "outputs": [
    {
     "name": "stdout",
     "output_type": "stream",
     "text": [
      "Array1: [20 40 50 70 10]\n",
      "Array2: [6 2 9 7 1]\n",
      "Sum: [26 42 59 77 11]\n",
      "Difference: [14 38 41 63  9]\n",
      "Product: [120  80 450 490  10]\n",
      "Quotient: [ 3.33333333 20.          5.55555556 10.         10.        ]\n"
     ]
    }
   ],
   "source": [
    "#Vector operations\n",
    "import numpy as np\n",
    "arr1=[20,40,50,70,10]\n",
    "arr2=[6,2,9,7,1]\n",
    "a1=np.array(arr1)\n",
    "a2=np.array(arr2)\n",
    "print(\"Array1:\",a1)\n",
    "print(\"Array2:\",a2)\n",
    "print(\"Sum:\",a1+a2)\n",
    "print(\"Difference:\",a1-a2)\n",
    "print(\"Product:\",a1*a2)\n",
    "print(\"Quotient:\",a1/a2)"
   ]
  },
  {
   "cell_type": "code",
   "execution_count": 11,
   "id": "9d6094a5",
   "metadata": {},
   "outputs": [
    {
     "name": "stdout",
     "output_type": "stream",
     "text": [
      "Dot product: 1150\n",
      "Scalar value: 3\n",
      "Array: [20 40 50 70 10]\n",
      "Result: [ 60 120 150 210  30]\n"
     ]
    }
   ],
   "source": [
    "#Vector operations\n",
    "import numpy as np\n",
    "arr1=[20,40,50,70,10]\n",
    "arr2=[6,2,9,7,1]\n",
    "a1=np.array(arr1)\n",
    "a2=np.array(arr2)\n",
    "print(\"Dot product:\",a.dot(b))\n",
    "sclr=3\n",
    "print(\"Scalar value:\",sclr)\n",
    "print(\"Array:\",a1)\n",
    "print(\"Result:\",a*sclr)"
   ]
  },
  {
   "cell_type": "code",
   "execution_count": 14,
   "id": "08d54fad",
   "metadata": {},
   "outputs": [
    {
     "name": "stdout",
     "output_type": "stream",
     "text": [
      "Remainder:\n",
      " [[1 6]\n",
      " [0 4]]\n"
     ]
    }
   ],
   "source": [
    "#Vector operations\n",
    "b1=np.array([[10,20],[30,40]])\n",
    "b2=np.array([[3,7],[5,9]])\n",
    "print(\"Remainder:\\n\",b1%b2)"
   ]
  },
  {
   "cell_type": "code",
   "execution_count": 19,
   "id": "e70fee8b",
   "metadata": {},
   "outputs": [
    {
     "name": "stdout",
     "output_type": "stream",
     "text": [
      "Array1: [10, 7, 2]\n",
      "Array2: [6, 5, 3]\n",
      "Result: [4 2 5]\n"
     ]
    }
   ],
   "source": [
    "#Vector operations\n",
    "def my_func(x,y):\n",
    "    if x>y:\n",
    "        return x-y\n",
    "    else:\n",
    "        return x+y\n",
    "c1=[10,7,2]\n",
    "c2=[6,5,3]\n",
    "vect_func=np.vectorize(my_func)\n",
    "print(\"Array1:\",c1)\n",
    "print(\"Array2:\",c2)\n",
    "print(\"Result:\",vect_func(c1,c2))"
   ]
  }
 ],
 "metadata": {
  "kernelspec": {
   "display_name": "Python 3 (ipykernel)",
   "language": "python",
   "name": "python3"
  },
  "language_info": {
   "codemirror_mode": {
    "name": "ipython",
    "version": 3
   },
   "file_extension": ".py",
   "mimetype": "text/x-python",
   "name": "python",
   "nbconvert_exporter": "python",
   "pygments_lexer": "ipython3",
   "version": "3.11.5"
  }
 },
 "nbformat": 4,
 "nbformat_minor": 5
}
