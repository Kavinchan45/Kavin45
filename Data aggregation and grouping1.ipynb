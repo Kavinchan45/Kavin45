{
 "cells": [
  {
   "cell_type": "code",
   "execution_count": 6,
   "id": "721fe3db",
   "metadata": {},
   "outputs": [
    {
     "name": "stdout",
     "output_type": "stream",
     "text": [
      "Original DataFrame\n",
      "          A      B  C  D\n",
      "0      Abi    one  3  5\n",
      "1     Babu    two  6  3\n",
      "2  Charles  three  1  3\n",
      "3   Darwin    one  1  2\n",
      "4      Abi    two  0  0\n",
      "5  Charles  three  1  1\n",
      "6   Darwin    one  6  5\n"
     ]
    }
   ],
   "source": [
    "import pandas as pd\n",
    "import numpy as np\n",
    "df=pd.DataFrame({'A':['Abi','Babu','Charles','Darwin','Abi','Charles','Darwin'],\n",
    "                'B':['one','two','three','one','two','three','one'],'C':np.random.randint(7,size=7),\n",
    "            'D':np.random.randint(7,size=7)})\n",
    "print(\"Original DataFrame\\n\",df)"
   ]
  },
  {
   "cell_type": "code",
   "execution_count": 8,
   "id": "58f486e6",
   "metadata": {},
   "outputs": [
    {
     "name": "stdout",
     "output_type": "stream",
     "text": [
      "Original Dataframe\n",
      "          A      B  C  D\n",
      "0      Abi    one  3  5\n",
      "1     Babu    two  6  3\n",
      "2  Charles  three  1  3\n",
      "3   Darwin    one  1  2\n",
      "4      Abi    two  0  0\n",
      "5  Charles  three  1  1\n",
      "6   Darwin    one  6  5\n",
      "Ingrouped Dataframewith one columnsum\n",
      "          A  C\n",
      "0      Abi  3\n",
      "1     Babu  6\n",
      "2  Charles  2\n",
      "3   Darwin  7\n"
     ]
    }
   ],
   "source": [
    "df1=df.groupby(['A'],as_index=False)['C'].sum()\n",
    "print(\"Original Dataframe\\n\",df)\n",
    "print(\"Ingrouped Dataframewith one columnsum\\n\",df1)"
   ]
  },
  {
   "cell_type": "code",
   "execution_count": 13,
   "id": "607116e4",
   "metadata": {},
   "outputs": [
    {
     "name": "stdout",
     "output_type": "stream",
     "text": [
      "Original Dataframe\n",
      "          A      B  C  D\n",
      "0      Abi    one  3  5\n",
      "1     Babu    two  6  3\n",
      "2  Charles  three  1  3\n",
      "3   Darwin    one  1  2\n",
      "4      Abi    two  0  0\n",
      "5  Charles  three  1  1\n",
      "6   Darwin    one  6  5\n",
      "Ingrouped Dataframe with multiple columnsum\n",
      "          A      B  C\n",
      "0      Abi    one  3\n",
      "1      Abi    two  0\n",
      "2     Babu    two  6\n",
      "3  Charles  three  2\n",
      "4   Darwin    one  7\n"
     ]
    }
   ],
   "source": [
    "df2=df.groupby(['A','B'],as_index=False)['C'].sum()\n",
    "print(\"Original Dataframe\\n\",df)\n",
    "print(\"Ingrouped Dataframe with multiple columnsum\\n\",df2)"
   ]
  },
  {
   "cell_type": "code",
   "execution_count": 15,
   "id": "514e1160",
   "metadata": {},
   "outputs": [
    {
     "name": "stdout",
     "output_type": "stream",
     "text": [
      "Original Dataframe\n",
      "          A      B  C  D\n",
      "0      Abi    one  3  5\n",
      "1     Babu    two  6  3\n",
      "2  Charles  three  1  3\n",
      "3   Darwin    one  1  2\n",
      "4      Abi    two  0  0\n",
      "5  Charles  three  1  1\n",
      "6   Darwin    one  6  5\n",
      "Ingrouped Dataframe with multiple columnsum\n",
      "          A      B  C  D\n",
      "0      Abi    one  3  5\n",
      "1      Abi    two  0  0\n",
      "2     Babu    two  6  3\n",
      "3  Charles  three  2  4\n",
      "4   Darwin    one  7  7\n"
     ]
    }
   ],
   "source": [
    "df3=df.groupby(['A','B'],as_index=False)[['C','D']].sum()\n",
    "print(\"Original Dataframe\\n\",df)\n",
    "print(\"Ingrouped Dataframe with multiple columnsum\\n\",df3)"
   ]
  },
  {
   "cell_type": "code",
   "execution_count": 16,
   "id": "c6e4deb3",
   "metadata": {},
   "outputs": [
    {
     "name": "stdout",
     "output_type": "stream",
     "text": [
      "  Category  Sales  Profit\n",
      "0        A    100      10\n",
      "1        B    200      15\n",
      "2        C    150      20\n",
      "3        A    150      25\n",
      "4        B    130      20\n",
      "5        C    200      15\n"
     ]
    }
   ],
   "source": [
    "import pandas as pd\n",
    "df4=pd.DataFrame({'Category':['A','B','C','A','B','C'],'Sales':[100,200,150,150,130,200],\n",
    "                 'Profit':[10,15,20,25,20,15]})\n",
    "print(df4)\n",
    "df5=df4.groupby('Category').agg({'Sales':['sum','mean'],'Profit':['sum','max']})"
   ]
  }
 ],
 "metadata": {
  "kernelspec": {
   "display_name": "Python 3 (ipykernel)",
   "language": "python",
   "name": "python3"
  },
  "language_info": {
   "codemirror_mode": {
    "name": "ipython",
    "version": 3
   },
   "file_extension": ".py",
   "mimetype": "text/x-python",
   "name": "python",
   "nbconvert_exporter": "python",
   "pygments_lexer": "ipython3",
   "version": "3.11.5"
  }
 },
 "nbformat": 4,
 "nbformat_minor": 5
}
