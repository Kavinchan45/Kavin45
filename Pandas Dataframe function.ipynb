{
 "cells": [
  {
   "cell_type": "code",
   "execution_count": 4,
   "id": "a2bbff71",
   "metadata": {},
   "outputs": [
    {
     "name": "stdout",
     "output_type": "stream",
     "text": [
      "\n",
      "Actual Dataframe:\n",
      "    S  R\n",
      "0  3  9\n",
      "1  3  9\n",
      "2  3  9\n",
      "3  3  9\n",
      "\n",
      "Sq.Root:\n",
      "           S    R\n",
      "0  1.732051  3.0\n",
      "1  1.732051  3.0\n",
      "2  1.732051  3.0\n",
      "3  1.732051  3.0\n",
      "\n",
      "Sumcolumn:\n",
      " S    12\n",
      "R    36\n",
      "dtype: int64\n",
      "\n",
      "Sumrow:\n",
      " 0    12\n",
      "1    12\n",
      "2    12\n",
      "3    12\n",
      "dtype: int64\n"
     ]
    }
   ],
   "source": [
    "import numpy as np\n",
    "import pandas as pd\n",
    "info=pd.DataFrame([[3,9]]*4,columns=['S','R'])\n",
    "print(\"\\nActual Dataframe:\\n\",info)\n",
    "print(\"\\nSq.Root:\\n\",info.apply(np.sqrt))\n",
    "print(\"\\nSumcolumn:\\n\",info.apply(np.sum,axis=0))\n",
    "print(\"\\nSumrow:\\n\",info.apply(np.sum,axis=1))"
   ]
  },
  {
   "cell_type": "code",
   "execution_count": 2,
   "id": "8b8c7bde",
   "metadata": {},
   "outputs": [
    {
     "name": "stdout",
     "output_type": "stream",
     "text": [
      "   X  Y  Z\n",
      "0  2  4  6\n",
      "1  1  3  5\n",
      "2  5  8  7\n",
      "     X  Y  Z\n",
      "min  1  3  5\n",
      "max  5  8  7\n"
     ]
    }
   ],
   "source": [
    "import numpy as np\n",
    "import pandas as pd\n",
    "information=pd.DataFrame([[2,4,6],[1,3,5],[5,8,7]],columns=['X','Y','Z'])\n",
    "print(information)\n",
    "print(information.agg(['min','max']))"
   ]
  },
  {
   "cell_type": "code",
   "execution_count": 6,
   "id": "da8deeff",
   "metadata": {},
   "outputs": [
    {
     "name": "stdout",
     "output_type": "stream",
     "text": [
      "  EmpName  ID\n",
      "0     Sai  88\n",
      "1     Poo  70\n",
      "\n",
      " Listnew:\n",
      "   EmpName  ID  Age\n",
      "0     Sai  88   20\n",
      "1     Poo  70   18\n",
      "\n",
      " Newer list:\n",
      "   EmpName  ID  Age   Sex\n",
      "0     Sai  88   20  Male\n",
      "1     Poo  70   18  Male\n"
     ]
    }
   ],
   "source": [
    "import pandas as pd\n",
    "import numpy as np\n",
    "d2=pd.DataFrame([['Sai',88],[\"Poo\",70]],columns=['EmpName','ID'])\n",
    "print(d2)\n",
    "d2['Age']=[20,18]\n",
    "print(\"\\n Listnew:\\n\",d2)\n",
    "d2['Sex']=['Male','Male']\n",
    "print(\"\\n Newer list:\\n\",d2)"
   ]
  },
  {
   "cell_type": "code",
   "execution_count": 8,
   "id": "14de975a",
   "metadata": {},
   "outputs": [
    {
     "name": "stdout",
     "output_type": "stream",
     "text": [
      "  Name  ID\n",
      "0  Sai  88\n",
      "1  Poo  70\n",
      "  Name  ID  Age\n",
      "0  Sai  88   20\n",
      "1  Poo  70   18\n"
     ]
    }
   ],
   "source": [
    "import pandas as pd\n",
    "import numpy as np\n",
    "e1=pd.DataFrame([['Sai',88],['Poo',70]],columns=['Name','ID'])\n",
    "print(e1)\n",
    "e2=e1.assign(Age=[20,18])\n",
    "print(e2)"
   ]
  },
  {
   "cell_type": "code",
   "execution_count": 11,
   "id": "e235965e",
   "metadata": {},
   "outputs": [
    {
     "name": "stdout",
     "output_type": "stream",
     "text": [
      "    Column2   Column3\n",
      "3 -0.521900  0.179035\n",
      "2  0.472038 -1.014406\n",
      "0  0.855210 -1.419551\n",
      "4  0.597573 -0.203698\n",
      "1  1.412507  1.526226\n",
      "    Column2   Column3\n",
      "0  0.855210 -1.419551\n",
      "1  1.412507  1.526226\n",
      "2  0.472038 -1.014406\n",
      "3 -0.521900  0.179035\n",
      "4  0.597573 -0.203698\n",
      "    Column2   Column3\n",
      "0  0.855210 -1.419551\n",
      "2  0.472038 -1.014406\n",
      "4  0.597573 -0.203698\n",
      "3 -0.521900  0.179035\n",
      "1  1.412507  1.526226\n"
     ]
    }
   ],
   "source": [
    "import pandas as pd\n",
    "info1=pd.DataFrame(np.random.randn(5, 2),index=[3,2,0,4,1],columns=['Column2','Column3'])\n",
    "print(info1)\n",
    "info2=info1.sort_index()\n",
    "print(info2)\n",
    "info3=info1.sort_values(by='Column3')\n",
    "print(info3)"
   ]
  },
  {
   "cell_type": "code",
   "execution_count": 13,
   "id": "cef27c52",
   "metadata": {},
   "outputs": [
    {
     "name": "stdout",
     "output_type": "stream",
     "text": [
      "   ID  Name   Sub\n",
      "0   1   Sai  Sub1\n",
      "1   2   Poo  Sub2\n",
      "2   3  Saba  Sub4\n",
      "3   4  Yuvi  Sub3\n",
      "   ID    Name   Sub\n",
      "0   1  Sanjay  Sub2\n",
      "1   2   Saran  Sub4\n",
      "2   3     Som  Sub3\n",
      "3   4    Ruba  Sub5\n",
      "Empty DataFrame\n",
      "Columns: [ID_x, Name, Sub_x, ID_y, Sub_y]\n",
      "Index: []\n"
     ]
    }
   ],
   "source": [
    "import pandas as pd\n",
    "import numpy as np\n",
    "L=pd.DataFrame({'ID':[1,2,3,4],'Name':['Sai','Poo','Saba','Yuvi'],'Sub':['Sub1','Sub2','Sub4','Sub3']})\n",
    "R=pd.DataFrame({'ID':[1,2,3,4],'Name':['Sanjay','Saran','Som','Ruba'],'Sub':['Sub2','Sub4','Sub3','Sub5']})\n",
    "print(L)\n",
    "print(R)\n",
    "print(pd.merge(L,R,on='Name'))"
   ]
  }
 ],
 "metadata": {
  "kernelspec": {
   "display_name": "Python 3 (ipykernel)",
   "language": "python",
   "name": "python3"
  },
  "language_info": {
   "codemirror_mode": {
    "name": "ipython",
    "version": 3
   },
   "file_extension": ".py",
   "mimetype": "text/x-python",
   "name": "python",
   "nbconvert_exporter": "python",
   "pygments_lexer": "ipython3",
   "version": "3.11.5"
  }
 },
 "nbformat": 4,
 "nbformat_minor": 5
}
