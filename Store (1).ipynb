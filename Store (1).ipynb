{
 "cells": [
  {
   "cell_type": "code",
   "execution_count": 15,
   "id": "2bf965ef",
   "metadata": {},
   "outputs": [
    {
     "name": "stdout",
     "output_type": "stream",
     "text": [
      "       a  b  c\n",
      "One    1  2  3\n",
      "Two    4  5  6\n",
      "Three  7  8  9\n"
     ]
    }
   ],
   "source": [
    "import pandas as pd\n",
    "df=pd.DataFrame([[1,2,3],[4,5,6],[7,8,9]],index=['One','Two','Three'],columns=['a','b','c'])\n",
    "print(df)"
   ]
  },
  {
   "cell_type": "code",
   "execution_count": 16,
   "id": "cd227746",
   "metadata": {},
   "outputs": [],
   "source": [
    "df.to_excel(\"/Users/student/Downloads/Shyam.xlsx\")\n",
    "df.to_excel(\"/Users/student/Downloads/Sundar.xlsx\")"
   ]
  },
  {
   "cell_type": "code",
   "execution_count": 17,
   "id": "e7b14a5b",
   "metadata": {},
   "outputs": [],
   "source": [
    "import pandas as pd\n",
    "df=pd.DataFrame([[10,20,30],[40,50,60],[70,80,90]],index=['Four','Five','Six'],columns=['x','y','z'])\n",
    "df.to_excel(\"/Users/student/Downloads/Shyam.xlsx\")"
   ]
  },
  {
   "cell_type": "code",
   "execution_count": 18,
   "id": "ab23b31a",
   "metadata": {},
   "outputs": [],
   "source": [
    "import pandas as pd\n",
    "df=pd.DataFrame([[6,7,8],[1,2,3]],index=['a','b'],columns=['x','y','z'])\n",
    "df.to_excel(\"/Users/student/Downloads/Sundar.xlsx\")"
   ]
  },
  {
   "cell_type": "code",
   "execution_count": 20,
   "id": "1ce7f148",
   "metadata": {},
   "outputs": [],
   "source": [
    "import pandas as pd\n",
    "df=pd.DataFrame([[10,20,30],[40,50,60],[70,80,90]],index=['Four','Five','Six'],columns=['x','y','z'])\n",
    "df.to_excel(\"/Users/student/Downloads/Shyam.xlsx\")\n",
    "X=pd.read_excel(\"/Users/student/Downloads/Shyam.xlsx\")\n",
    "Y=pd.read_excel(\"/Users/student/Downloads/Sundar.xlsx\")\n",
    "Z=pd.concat([X,Y])\n",
    "Z.to_excel(\"/Users/student/Downloads/ss.xlsx\")"
   ]
  },
  {
   "cell_type": "code",
   "execution_count": 24,
   "id": "d920a732",
   "metadata": {},
   "outputs": [
    {
     "name": "stdout",
     "output_type": "stream",
     "text": [
      "  Unnamed: 0   x   y   z\n",
      "1          b   1   2   3\n",
      "0          a   6   7   8\n",
      "0       Four  10  20  30\n",
      "1       Five  40  50  60\n",
      "2        Six  70  80  90\n",
      "  Unnamed: 0   x   y   z\n",
      "1          b   1   2   3\n",
      "0          a   6   7   8\n",
      "0       Four  10  20  30\n",
      "1       Five  40  50  60\n",
      "2        Six  70  80  90\n"
     ]
    }
   ],
   "source": [
    "df=Z.sort_values([\"x\"])\n",
    "print(df)\n",
    "df.to_excel(\"/Users/student/Downloads/ss.xlsx\")\n",
    "df=Z.sort_values([\"y\"])\n",
    "print(df)\n",
    "df.to_excel(\"/Users/student/Downloads/ss.xlsx\")"
   ]
  },
  {
   "cell_type": "code",
   "execution_count": 25,
   "id": "2a2c4001",
   "metadata": {},
   "outputs": [
    {
     "name": "stdout",
     "output_type": "stream",
     "text": [
      "  Unnamed: 0   x   y   z\n",
      "0       Four  10  20  30\n",
      "1       Five  40  50  60\n",
      "2        Six  70  80  90\n",
      "['Unnamed: 0', 'x', 'y', 'z']\n",
      "3\n"
     ]
    }
   ],
   "source": [
    "df=pd.read_excel(\"/Users/student/Downloads/Shyam.xlsx\")\n",
    "print(df)\n",
    "print(list(df))\n",
    "print(format(len(df)))"
   ]
  },
  {
   "cell_type": "code",
   "execution_count": null,
   "id": "d98c4055",
   "metadata": {},
   "outputs": [],
   "source": []
  }
 ],
 "metadata": {
  "kernelspec": {
   "display_name": "Python 3 (ipykernel)",
   "language": "python",
   "name": "python3"
  },
  "language_info": {
   "codemirror_mode": {
    "name": "ipython",
    "version": 3
   },
   "file_extension": ".py",
   "mimetype": "text/x-python",
   "name": "python",
   "nbconvert_exporter": "python",
   "pygments_lexer": "ipython3",
   "version": "3.11.5"
  }
 },
 "nbformat": 4,
 "nbformat_minor": 5
}
